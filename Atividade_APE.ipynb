{
  "nbformat": 4,
  "nbformat_minor": 0,
  "metadata": {
    "colab": {
      "name": "Atividade-APE.ipynb",
      "provenance": [],
      "collapsed_sections": [],
      "mount_file_id": "1HfTxZKq9h-zPdie_vkBLgctDsrdmJEyL",
      "authorship_tag": "ABX9TyPF0WDtRaWxxGYNXRKZYI6g",
      "include_colab_link": true
    },
    "kernelspec": {
      "name": "python3",
      "display_name": "Python 3"
    }
  },
  "cells": [
    {
      "cell_type": "markdown",
      "metadata": {
        "id": "view-in-github",
        "colab_type": "text"
      },
      "source": [
        "<a href=\"https://colab.research.google.com/github/Jucicarla/APE/blob/main/Atividade_APE.ipynb\" target=\"_parent\"><img src=\"https://colab.research.google.com/assets/colab-badge.svg\" alt=\"Open In Colab\"/></a>"
      ]
    },
    {
      "cell_type": "markdown",
      "metadata": {
        "id": "mB-2PHocykd9"
      },
      "source": [
        "**Disciplina: Aquisição, Pre-processamento e exploração de dados**\r\n",
        "\r\n",
        "**Discente: Jucicarla Pires Barbosa - jpb.cid20@uea.edu.br**\r\n",
        "\r\n",
        "**Dataset utilizado:** northwind_small.sqlite\r\n",
        "\r\n",
        "Faça um relatório para responder a seguinte questão do negócio:\r\n"
      ]
    },
    {
      "cell_type": "markdown",
      "metadata": {
        "id": "5E-_ebb4MTd0"
      },
      "source": [
        "**Questão de Negócio**\r\n",
        "\r\n",
        "- O 20% dos empregados fatura o 80% por cento das ordens, e conseguem pelo menos o 60 % da receita total da empresa.\r\n",
        "\r\n",
        "- Quais recomendações você faria ao negócio com os resultados da exploração de dados?\r\n",
        "\r\n",
        "**Endendimento do Negócio**\r\n",
        "  - Obter o número de orders criado por cada Employee\r\n",
        "  - Calcular o porcento que representa da receita total"
      ]
    },
    {
      "cell_type": "markdown",
      "metadata": {
        "id": "Pbyf_D_T2L-Q"
      },
      "source": [
        "Pre-processamento"
      ]
    },
    {
      "cell_type": "code",
      "metadata": {
        "id": "wXsqvaEOyjyu"
      },
      "source": [
        "import pandas as pd\r\n",
        "import sqlite3\r\n",
        "import matplotlib.pyplot as plt\r\n",
        "import seaborn as sns\r\n",
        "import statsmodels.api as sm\r\n",
        "from statsmodels.formula.api import ols\r\n",
        "from scipy.stats import shapiro\r\n",
        "import numpy as np\r\n"
      ],
      "execution_count": 110,
      "outputs": []
    },
    {
      "cell_type": "markdown",
      "metadata": {
        "id": "_EYlTJBe2U4T"
      },
      "source": [
        "Carregar os dados"
      ]
    },
    {
      "cell_type": "code",
      "metadata": {
        "id": "AFKnvY8EyvG8"
      },
      "source": [
        "con = sqlite3.connect('/content/drive/MyDrive/northwind_small.sqlite')"
      ],
      "execution_count": 111,
      "outputs": []
    },
    {
      "cell_type": "code",
      "metadata": {
        "colab": {
          "base_uri": "https://localhost:8080/"
        },
        "id": "l0SOnbcgzSHB",
        "outputId": "d1144f51-2935-4e86-a49f-08d9338db7e3"
      },
      "source": [
        "#visualisar todas as tabelas do banco\r\n",
        "con.execute(\"\"\" SELECT name FROM sqlite_master WHERE type='table' ; \"\"\").fetchall()"
      ],
      "execution_count": 112,
      "outputs": [
        {
          "output_type": "execute_result",
          "data": {
            "text/plain": [
              "[('Employee',),\n",
              " ('Category',),\n",
              " ('Customer',),\n",
              " ('Shipper',),\n",
              " ('Supplier',),\n",
              " ('Order',),\n",
              " ('Product',),\n",
              " ('OrderDetail',),\n",
              " ('CustomerCustomerDemo',),\n",
              " ('CustomerDemographic',),\n",
              " ('Region',),\n",
              " ('Territory',),\n",
              " ('EmployeeTerritory',)]"
            ]
          },
          "metadata": {
            "tags": []
          },
          "execution_count": 112
        }
      ]
    },
    {
      "cell_type": "code",
      "metadata": {
        "id": "Lq5HkijzzEcK"
      },
      "source": [
        "#verificar o numero de orders criado por cada Employee\r\n",
        "str_query = (\"\"\" SELECT\r\n",
        "              a.EmployeeId,\r\n",
        "              b.FirstName, \r\n",
        "              b.LastName,  \r\n",
        "              COUNT(a.EmployeeId) as CountOrders\r\n",
        "              FROM 'Order' a\r\n",
        "              LEFT JOIN Employee b \r\n",
        "              ON b.Id = a.EmployeeId\r\n",
        "              GROUP BY EmployeeId\r\n",
        "\r\n",
        "            \"\"\"  )"
      ],
      "execution_count": 113,
      "outputs": []
    },
    {
      "cell_type": "code",
      "metadata": {
        "id": "kLOt2PO5zLGf"
      },
      "source": [
        "df = pd.read_sql_query(str_query, con)"
      ],
      "execution_count": 114,
      "outputs": []
    },
    {
      "cell_type": "code",
      "metadata": {
        "colab": {
          "base_uri": "https://localhost:8080/",
          "height": 332
        },
        "id": "Fl_D93j51FPJ",
        "outputId": "7efe1c78-d143-4f86-b915-4388f9cfa9fc"
      },
      "source": [
        "df"
      ],
      "execution_count": 115,
      "outputs": [
        {
          "output_type": "execute_result",
          "data": {
            "text/html": [
              "<div>\n",
              "<style scoped>\n",
              "    .dataframe tbody tr th:only-of-type {\n",
              "        vertical-align: middle;\n",
              "    }\n",
              "\n",
              "    .dataframe tbody tr th {\n",
              "        vertical-align: top;\n",
              "    }\n",
              "\n",
              "    .dataframe thead th {\n",
              "        text-align: right;\n",
              "    }\n",
              "</style>\n",
              "<table border=\"1\" class=\"dataframe\">\n",
              "  <thead>\n",
              "    <tr style=\"text-align: right;\">\n",
              "      <th></th>\n",
              "      <th>EmployeeId</th>\n",
              "      <th>FirstName</th>\n",
              "      <th>LastName</th>\n",
              "      <th>CountOrders</th>\n",
              "    </tr>\n",
              "  </thead>\n",
              "  <tbody>\n",
              "    <tr>\n",
              "      <th>0</th>\n",
              "      <td>1</td>\n",
              "      <td>Nancy</td>\n",
              "      <td>Davolio</td>\n",
              "      <td>123</td>\n",
              "    </tr>\n",
              "    <tr>\n",
              "      <th>1</th>\n",
              "      <td>2</td>\n",
              "      <td>Andrew</td>\n",
              "      <td>Fuller</td>\n",
              "      <td>96</td>\n",
              "    </tr>\n",
              "    <tr>\n",
              "      <th>2</th>\n",
              "      <td>3</td>\n",
              "      <td>Janet</td>\n",
              "      <td>Leverling</td>\n",
              "      <td>127</td>\n",
              "    </tr>\n",
              "    <tr>\n",
              "      <th>3</th>\n",
              "      <td>4</td>\n",
              "      <td>Margaret</td>\n",
              "      <td>Peacock</td>\n",
              "      <td>156</td>\n",
              "    </tr>\n",
              "    <tr>\n",
              "      <th>4</th>\n",
              "      <td>5</td>\n",
              "      <td>Steven</td>\n",
              "      <td>Buchanan</td>\n",
              "      <td>42</td>\n",
              "    </tr>\n",
              "    <tr>\n",
              "      <th>5</th>\n",
              "      <td>6</td>\n",
              "      <td>Michael</td>\n",
              "      <td>Suyama</td>\n",
              "      <td>67</td>\n",
              "    </tr>\n",
              "    <tr>\n",
              "      <th>6</th>\n",
              "      <td>7</td>\n",
              "      <td>Robert</td>\n",
              "      <td>King</td>\n",
              "      <td>72</td>\n",
              "    </tr>\n",
              "    <tr>\n",
              "      <th>7</th>\n",
              "      <td>8</td>\n",
              "      <td>Laura</td>\n",
              "      <td>Callahan</td>\n",
              "      <td>104</td>\n",
              "    </tr>\n",
              "    <tr>\n",
              "      <th>8</th>\n",
              "      <td>9</td>\n",
              "      <td>Anne</td>\n",
              "      <td>Dodsworth</td>\n",
              "      <td>43</td>\n",
              "    </tr>\n",
              "  </tbody>\n",
              "</table>\n",
              "</div>"
            ],
            "text/plain": [
              "   EmployeeId FirstName   LastName  CountOrders\n",
              "0           1     Nancy    Davolio          123\n",
              "1           2    Andrew     Fuller           96\n",
              "2           3     Janet  Leverling          127\n",
              "3           4  Margaret    Peacock          156\n",
              "4           5    Steven   Buchanan           42\n",
              "5           6   Michael     Suyama           67\n",
              "6           7    Robert       King           72\n",
              "7           8     Laura   Callahan          104\n",
              "8           9      Anne  Dodsworth           43"
            ]
          },
          "metadata": {
            "tags": []
          },
          "execution_count": 115
        }
      ]
    },
    {
      "cell_type": "code",
      "metadata": {
        "colab": {
          "base_uri": "https://localhost:8080/",
          "height": 297
        },
        "id": "mOc8Eqi2GpJV",
        "outputId": "96580998-6a82-4438-f29d-73e5bb1326b8"
      },
      "source": [
        "plt.figure(figsize=(15,4))\r\n",
        "sns.barplot(x='LastName', y='CountOrders', data=df)"
      ],
      "execution_count": 116,
      "outputs": [
        {
          "output_type": "execute_result",
          "data": {
            "text/plain": [
              "<matplotlib.axes._subplots.AxesSubplot at 0x7f854233c710>"
            ]
          },
          "metadata": {
            "tags": []
          },
          "execution_count": 116
        },
        {
          "output_type": "display_data",
          "data": {
            "image/png": "[encoded data removed]",
            "text/plain": [
              "<Figure size 1080x288 with 1 Axes>"
            ]
          },
          "metadata": {
            "tags": [],
            "needs_background": "light"
          }
        }
      ]
    },
    {
      "cell_type": "code",
      "metadata": {
        "id": "xcSF-i6fEbaC"
      },
      "source": [
        "str_query1 = (\"\"\" SELECT \r\n",
        "                a.EmployeeId,\r\n",
        "                b.LastName,\r\n",
        "                od.OrderId,\r\n",
        "                od.Quantity,\r\n",
        "                od.UnitPrice,\r\n",
        "                COUNT(a.EmployeeId) as CountOrders\r\n",
        "                FROM 'Order' a\r\n",
        "                LEFT JOIN Employee b \r\n",
        "                ON b.Id = a.EmployeeId\r\n",
        "                JOIN OrderDetail od ON od.OrderId = a.Id\r\n",
        "                GROUP BY EmployeeId\r\n",
        "             \"\"\" )"
      ],
      "execution_count": 117,
      "outputs": []
    },
    {
      "cell_type": "code",
      "metadata": {
        "id": "OyJLjaXlKmNO"
      },
      "source": [
        "df1 = pd.read_sql_query(str_query1,con)"
      ],
      "execution_count": 118,
      "outputs": []
    },
    {
      "cell_type": "code",
      "metadata": {
        "colab": {
          "base_uri": "https://localhost:8080/",
          "height": 332
        },
        "id": "6p6hwHs5J2mI",
        "outputId": "f108178b-8cae-409e-b78e-7db687dbefbe"
      },
      "source": [
        "df1"
      ],
      "execution_count": 119,
      "outputs": [
        {
          "output_type": "execute_result",
          "data": {
            "text/html": [
              "<div>\n",
              "<style scoped>\n",
              "    .dataframe tbody tr th:only-of-type {\n",
              "        vertical-align: middle;\n",
              "    }\n",
              "\n",
              "    .dataframe tbody tr th {\n",
              "        vertical-align: top;\n",
              "    }\n",
              "\n",
              "    .dataframe thead th {\n",
              "        text-align: right;\n",
              "    }\n",
              "</style>\n",
              "<table border=\"1\" class=\"dataframe\">\n",
              "  <thead>\n",
              "    <tr style=\"text-align: right;\">\n",
              "      <th></th>\n",
              "      <th>EmployeeId</th>\n",
              "      <th>LastName</th>\n",
              "      <th>OrderId</th>\n",
              "      <th>Quantity</th>\n",
              "      <th>UnitPrice</th>\n",
              "      <th>CountOrders</th>\n",
              "    </tr>\n",
              "  </thead>\n",
              "  <tbody>\n",
              "    <tr>\n",
              "      <th>0</th>\n",
              "      <td>1</td>\n",
              "      <td>Davolio</td>\n",
              "      <td>11077</td>\n",
              "      <td>1</td>\n",
              "      <td>81.00</td>\n",
              "      <td>345</td>\n",
              "    </tr>\n",
              "    <tr>\n",
              "      <th>1</th>\n",
              "      <td>2</td>\n",
              "      <td>Fuller</td>\n",
              "      <td>11073</td>\n",
              "      <td>10</td>\n",
              "      <td>21.00</td>\n",
              "      <td>241</td>\n",
              "    </tr>\n",
              "    <tr>\n",
              "      <th>2</th>\n",
              "      <td>3</td>\n",
              "      <td>Leverling</td>\n",
              "      <td>11063</td>\n",
              "      <td>40</td>\n",
              "      <td>18.40</td>\n",
              "      <td>321</td>\n",
              "    </tr>\n",
              "    <tr>\n",
              "      <th>3</th>\n",
              "      <td>4</td>\n",
              "      <td>Peacock</td>\n",
              "      <td>11076</td>\n",
              "      <td>20</td>\n",
              "      <td>25.00</td>\n",
              "      <td>420</td>\n",
              "    </tr>\n",
              "    <tr>\n",
              "      <th>4</th>\n",
              "      <td>5</td>\n",
              "      <td>Buchanan</td>\n",
              "      <td>11043</td>\n",
              "      <td>10</td>\n",
              "      <td>21.00</td>\n",
              "      <td>117</td>\n",
              "    </tr>\n",
              "    <tr>\n",
              "      <th>5</th>\n",
              "      <td>6</td>\n",
              "      <td>Suyama</td>\n",
              "      <td>11045</td>\n",
              "      <td>24</td>\n",
              "      <td>53.00</td>\n",
              "      <td>168</td>\n",
              "    </tr>\n",
              "    <tr>\n",
              "      <th>6</th>\n",
              "      <td>7</td>\n",
              "      <td>King</td>\n",
              "      <td>11074</td>\n",
              "      <td>14</td>\n",
              "      <td>17.45</td>\n",
              "      <td>176</td>\n",
              "    </tr>\n",
              "    <tr>\n",
              "      <th>7</th>\n",
              "      <td>8</td>\n",
              "      <td>Callahan</td>\n",
              "      <td>11075</td>\n",
              "      <td>10</td>\n",
              "      <td>19.00</td>\n",
              "      <td>260</td>\n",
              "    </tr>\n",
              "    <tr>\n",
              "      <th>8</th>\n",
              "      <td>9</td>\n",
              "      <td>Dodsworth</td>\n",
              "      <td>11058</td>\n",
              "      <td>21</td>\n",
              "      <td>34.00</td>\n",
              "      <td>107</td>\n",
              "    </tr>\n",
              "  </tbody>\n",
              "</table>\n",
              "</div>"
            ],
            "text/plain": [
              "   EmployeeId   LastName  OrderId  Quantity  UnitPrice  CountOrders\n",
              "0           1    Davolio    11077         1      81.00          345\n",
              "1           2     Fuller    11073        10      21.00          241\n",
              "2           3  Leverling    11063        40      18.40          321\n",
              "3           4    Peacock    11076        20      25.00          420\n",
              "4           5   Buchanan    11043        10      21.00          117\n",
              "5           6     Suyama    11045        24      53.00          168\n",
              "6           7       King    11074        14      17.45          176\n",
              "7           8   Callahan    11075        10      19.00          260\n",
              "8           9  Dodsworth    11058        21      34.00          107"
            ]
          },
          "metadata": {
            "tags": []
          },
          "execution_count": 119
        }
      ]
    },
    {
      "cell_type": "code",
      "metadata": {
        "id": "DRpE3yBF07cC"
      },
      "source": [
        "#calcular o porcento\r\n",
        "total = df1['CountOrders'].sum()\r\n",
        "df_sum = df1[['LastName', 'CountOrders']].groupby(['LastName']).sum().reset_index()\r\n",
        "df_sum['porcento']=df_sum['CountOrders']/total*100"
      ],
      "execution_count": 120,
      "outputs": []
    },
    {
      "cell_type": "code",
      "metadata": {
        "colab": {
          "base_uri": "https://localhost:8080/",
          "height": 332
        },
        "id": "-DZKvwzFIikn",
        "outputId": "ae1e5e23-b69e-4731-b038-f290ca5b5140"
      },
      "source": [
        "df_sum"
      ],
      "execution_count": 121,
      "outputs": [
        {
          "output_type": "execute_result",
          "data": {
            "text/html": [
              "<div>\n",
              "<style scoped>\n",
              "    .dataframe tbody tr th:only-of-type {\n",
              "        vertical-align: middle;\n",
              "    }\n",
              "\n",
              "    .dataframe tbody tr th {\n",
              "        vertical-align: top;\n",
              "    }\n",
              "\n",
              "    .dataframe thead th {\n",
              "        text-align: right;\n",
              "    }\n",
              "</style>\n",
              "<table border=\"1\" class=\"dataframe\">\n",
              "  <thead>\n",
              "    <tr style=\"text-align: right;\">\n",
              "      <th></th>\n",
              "      <th>LastName</th>\n",
              "      <th>CountOrders</th>\n",
              "      <th>porcento</th>\n",
              "    </tr>\n",
              "  </thead>\n",
              "  <tbody>\n",
              "    <tr>\n",
              "      <th>0</th>\n",
              "      <td>Buchanan</td>\n",
              "      <td>117</td>\n",
              "      <td>5.429234</td>\n",
              "    </tr>\n",
              "    <tr>\n",
              "      <th>1</th>\n",
              "      <td>Callahan</td>\n",
              "      <td>260</td>\n",
              "      <td>12.064965</td>\n",
              "    </tr>\n",
              "    <tr>\n",
              "      <th>2</th>\n",
              "      <td>Davolio</td>\n",
              "      <td>345</td>\n",
              "      <td>16.009281</td>\n",
              "    </tr>\n",
              "    <tr>\n",
              "      <th>3</th>\n",
              "      <td>Dodsworth</td>\n",
              "      <td>107</td>\n",
              "      <td>4.965197</td>\n",
              "    </tr>\n",
              "    <tr>\n",
              "      <th>4</th>\n",
              "      <td>Fuller</td>\n",
              "      <td>241</td>\n",
              "      <td>11.183295</td>\n",
              "    </tr>\n",
              "    <tr>\n",
              "      <th>5</th>\n",
              "      <td>King</td>\n",
              "      <td>176</td>\n",
              "      <td>8.167053</td>\n",
              "    </tr>\n",
              "    <tr>\n",
              "      <th>6</th>\n",
              "      <td>Leverling</td>\n",
              "      <td>321</td>\n",
              "      <td>14.895592</td>\n",
              "    </tr>\n",
              "    <tr>\n",
              "      <th>7</th>\n",
              "      <td>Peacock</td>\n",
              "      <td>420</td>\n",
              "      <td>19.489559</td>\n",
              "    </tr>\n",
              "    <tr>\n",
              "      <th>8</th>\n",
              "      <td>Suyama</td>\n",
              "      <td>168</td>\n",
              "      <td>7.795824</td>\n",
              "    </tr>\n",
              "  </tbody>\n",
              "</table>\n",
              "</div>"
            ],
            "text/plain": [
              "    LastName  CountOrders   porcento\n",
              "0   Buchanan          117   5.429234\n",
              "1   Callahan          260  12.064965\n",
              "2    Davolio          345  16.009281\n",
              "3  Dodsworth          107   4.965197\n",
              "4     Fuller          241  11.183295\n",
              "5       King          176   8.167053\n",
              "6  Leverling          321  14.895592\n",
              "7    Peacock          420  19.489559\n",
              "8     Suyama          168   7.795824"
            ]
          },
          "metadata": {
            "tags": []
          },
          "execution_count": 121
        }
      ]
    },
    {
      "cell_type": "code",
      "metadata": {
        "colab": {
          "base_uri": "https://localhost:8080/",
          "height": 297
        },
        "id": "ZJZTTISa9Glr",
        "outputId": "cc484d76-c991-4400-fbb7-2ee310820d06"
      },
      "source": [
        "#plotando a porcentagem para cada empregado\r\n",
        "plt.figure(figsize=(15,4))\r\n",
        "sns.barplot(x='LastName', y='porcento', data=df_sum)"
      ],
      "execution_count": 122,
      "outputs": [
        {
          "output_type": "execute_result",
          "data": {
            "text/plain": [
              "<matplotlib.axes._subplots.AxesSubplot at 0x7f85423a2550>"
            ]
          },
          "metadata": {
            "tags": []
          },
          "execution_count": 122
        },
        {
          "output_type": "display_data",
          "data": {
            "image/png": "[encoded data removed]",
            "text/plain": [
              "<Figure size 1080x288 with 1 Axes>"
            ]
          },
          "metadata": {
            "tags": [],
            "needs_background": "light"
          }
        }
      ]
    },
    {
      "cell_type": "code",
      "metadata": {
        "colab": {
          "base_uri": "https://localhost:8080/"
        },
        "id": "Ac3dH_WwwPL_",
        "outputId": "3028d2ee-307c-41c5-c307-19fbed482445"
      },
      "source": [
        "#teste de normalidade\r\n",
        "#Usando o Teste de Shapiro\r\n",
        "stat, p = shapiro(df1['CountOrders'])\r\n",
        "print('Statistics=%.3f, p=%.3f' % (stat, p))\r\n",
        "\r\n",
        "#se p> 0.05, rejeita H0, is dados não seguem uma distribuição normal"
      ],
      "execution_count": 123,
      "outputs": [
        {
          "output_type": "stream",
          "text": [
            "Statistics=0.951, p=0.696\n"
          ],
          "name": "stdout"
        }
      ]
    },
    {
      "cell_type": "code",
      "metadata": {
        "id": "hBsJ5FrR7Cjs"
      },
      "source": [
        "#tranformação logaritima\r\n",
        "df3_log = df.copy()"
      ],
      "execution_count": 124,
      "outputs": []
    },
    {
      "cell_type": "code",
      "metadata": {
        "id": "nISTLFQ67sjW"
      },
      "source": [
        "df3_log['CountOrders2'] = np.log(df['CountOrders'])"
      ],
      "execution_count": 125,
      "outputs": []
    },
    {
      "cell_type": "code",
      "metadata": {
        "colab": {
          "base_uri": "https://localhost:8080/",
          "height": 332
        },
        "id": "mQEFz7ol8fdk",
        "outputId": "573ce57f-e5dc-42f5-8728-bf43f8b959ad"
      },
      "source": [
        "df3_log"
      ],
      "execution_count": 126,
      "outputs": [
        {
          "output_type": "execute_result",
          "data": {
            "text/html": [
              "<div>\n",
              "<style scoped>\n",
              "    .dataframe tbody tr th:only-of-type {\n",
              "        vertical-align: middle;\n",
              "    }\n",
              "\n",
              "    .dataframe tbody tr th {\n",
              "        vertical-align: top;\n",
              "    }\n",
              "\n",
              "    .dataframe thead th {\n",
              "        text-align: right;\n",
              "    }\n",
              "</style>\n",
              "<table border=\"1\" class=\"dataframe\">\n",
              "  <thead>\n",
              "    <tr style=\"text-align: right;\">\n",
              "      <th></th>\n",
              "      <th>EmployeeId</th>\n",
              "      <th>FirstName</th>\n",
              "      <th>LastName</th>\n",
              "      <th>CountOrders</th>\n",
              "      <th>CountOrders2</th>\n",
              "    </tr>\n",
              "  </thead>\n",
              "  <tbody>\n",
              "    <tr>\n",
              "      <th>0</th>\n",
              "      <td>1</td>\n",
              "      <td>Nancy</td>\n",
              "      <td>Davolio</td>\n",
              "      <td>123</td>\n",
              "      <td>4.812184</td>\n",
              "    </tr>\n",
              "    <tr>\n",
              "      <th>1</th>\n",
              "      <td>2</td>\n",
              "      <td>Andrew</td>\n",
              "      <td>Fuller</td>\n",
              "      <td>96</td>\n",
              "      <td>4.564348</td>\n",
              "    </tr>\n",
              "    <tr>\n",
              "      <th>2</th>\n",
              "      <td>3</td>\n",
              "      <td>Janet</td>\n",
              "      <td>Leverling</td>\n",
              "      <td>127</td>\n",
              "      <td>4.844187</td>\n",
              "    </tr>\n",
              "    <tr>\n",
              "      <th>3</th>\n",
              "      <td>4</td>\n",
              "      <td>Margaret</td>\n",
              "      <td>Peacock</td>\n",
              "      <td>156</td>\n",
              "      <td>5.049856</td>\n",
              "    </tr>\n",
              "    <tr>\n",
              "      <th>4</th>\n",
              "      <td>5</td>\n",
              "      <td>Steven</td>\n",
              "      <td>Buchanan</td>\n",
              "      <td>42</td>\n",
              "      <td>3.737670</td>\n",
              "    </tr>\n",
              "    <tr>\n",
              "      <th>5</th>\n",
              "      <td>6</td>\n",
              "      <td>Michael</td>\n",
              "      <td>Suyama</td>\n",
              "      <td>67</td>\n",
              "      <td>4.204693</td>\n",
              "    </tr>\n",
              "    <tr>\n",
              "      <th>6</th>\n",
              "      <td>7</td>\n",
              "      <td>Robert</td>\n",
              "      <td>King</td>\n",
              "      <td>72</td>\n",
              "      <td>4.276666</td>\n",
              "    </tr>\n",
              "    <tr>\n",
              "      <th>7</th>\n",
              "      <td>8</td>\n",
              "      <td>Laura</td>\n",
              "      <td>Callahan</td>\n",
              "      <td>104</td>\n",
              "      <td>4.644391</td>\n",
              "    </tr>\n",
              "    <tr>\n",
              "      <th>8</th>\n",
              "      <td>9</td>\n",
              "      <td>Anne</td>\n",
              "      <td>Dodsworth</td>\n",
              "      <td>43</td>\n",
              "      <td>3.761200</td>\n",
              "    </tr>\n",
              "  </tbody>\n",
              "</table>\n",
              "</div>"
            ],
            "text/plain": [
              "   EmployeeId FirstName   LastName  CountOrders  CountOrders2\n",
              "0           1     Nancy    Davolio          123      4.812184\n",
              "1           2    Andrew     Fuller           96      4.564348\n",
              "2           3     Janet  Leverling          127      4.844187\n",
              "3           4  Margaret    Peacock          156      5.049856\n",
              "4           5    Steven   Buchanan           42      3.737670\n",
              "5           6   Michael     Suyama           67      4.204693\n",
              "6           7    Robert       King           72      4.276666\n",
              "7           8     Laura   Callahan          104      4.644391\n",
              "8           9      Anne  Dodsworth           43      3.761200"
            ]
          },
          "metadata": {
            "tags": []
          },
          "execution_count": 126
        }
      ]
    },
    {
      "cell_type": "markdown",
      "metadata": {
        "id": "mFNbbVMoLi0p"
      },
      "source": [
        "**Conclusões**\r\n",
        "- Os 20% dos empregados fatura 36% porcentos das ordens.\r\n",
        "- Conseguem pelo menos 62% da receita total da empresa.\r\n",
        "\r\n",
        "- Há diferenças entre a quantidade de faturas entre os empregados, por isso a existe uma distribuição não normal.\r\n",
        "\r\n",
        "- Northwind poderia estabelecer metas para os empregados para que todos estejam normal no faturamento da empresa"
      ]
    }
  ]
}