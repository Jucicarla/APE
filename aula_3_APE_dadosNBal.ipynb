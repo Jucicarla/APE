{
  "nbformat": 4,
  "nbformat_minor": 0,
  "metadata": {
    "colab": {
      "name": "aula 3-APE-dadosNBal.ipynb",
      "provenance": [],
      "mount_file_id": "1l0jqJINsg8mA0DQonOsmxf4ZeLF5i0dw",
      "authorship_tag": "ABX9TyPwbr7wNURqOOeVqFI2hT6e",
      "include_colab_link": true
    },
    "kernelspec": {
      "name": "python3",
      "display_name": "Python 3"
    }
  },
  "cells": [
    {
      "cell_type": "markdown",
      "metadata": {
        "id": "view-in-github",
        "colab_type": "text"
      },
      "source": [
        "<a href=\"https://colab.research.google.com/github/Jucicarla/APE/blob/main/aula_3_APE_dadosNBal.ipynb\" target=\"_parent\"><img src=\"https://colab.research.google.com/assets/colab-badge.svg\" alt=\"Open In Colab\"/></a>"
      ]
    },
    {
      "cell_type": "markdown",
      "metadata": {
        "id": "SHjx1bu8-RBk"
      },
      "source": [
        "**Disciplina: Aquisição, Pré-processamento e Extração de Dados**\r\n",
        " \r\n",
        "**Assunto: Dados não balanceados**\r\n",
        "\r\n",
        "Exemplo:\r\n",
        "Dataset: winequality red.csv\r\n",
        "https://www.kaggle.com/uciml/red wine quality cortez et al 2009 conjunto de dados sobre vinhos 1599"
      ]
    },
    {
      "cell_type": "code",
      "metadata": {
        "id": "Ae2n6PiJ-Z5m"
      },
      "source": [
        "import pandas as pd\r\n",
        "import seaborn as sns\r\n",
        "import matplotlib.pyplot as plt\r\n",
        "from imblearn.under_sampling import RandomUnderSampler,NearMiss, OneSidedSelection\r\n",
        "from sklearn.model_selection import train_test_split\r\n",
        "from imblearn.over_sampling import SMOTE\r\n"
      ],
      "execution_count": 58,
      "outputs": []
    },
    {
      "cell_type": "code",
      "metadata": {
        "id": "zR36tB7p_IFA"
      },
      "source": [
        "df_wine = pd.read_csv('/content/drive/MyDrive/winequality-red.csv')"
      ],
      "execution_count": 59,
      "outputs": []
    },
    {
      "cell_type": "code",
      "metadata": {
        "colab": {
          "base_uri": "https://localhost:8080/",
          "height": 224
        },
        "id": "TMGOJsSg_aXn",
        "outputId": "c6c58ef4-6602-482f-ddc1-2f1da88c4b90"
      },
      "source": [
        "df_wine.head()"
      ],
      "execution_count": 60,
      "outputs": [
        {
          "output_type": "execute_result",
          "data": {
            "text/html": [
              "<div>\n",
              "<style scoped>\n",
              "    .dataframe tbody tr th:only-of-type {\n",
              "        vertical-align: middle;\n",
              "    }\n",
              "\n",
              "    .dataframe tbody tr th {\n",
              "        vertical-align: top;\n",
              "    }\n",
              "\n",
              "    .dataframe thead th {\n",
              "        text-align: right;\n",
              "    }\n",
              "</style>\n",
              "<table border=\"1\" class=\"dataframe\">\n",
              "  <thead>\n",
              "    <tr style=\"text-align: right;\">\n",
              "      <th></th>\n",
              "      <th>fixed acidity</th>\n",
              "      <th>volatile acidity</th>\n",
              "      <th>citric acid</th>\n",
              "      <th>residual sugar</th>\n",
              "      <th>chlorides</th>\n",
              "      <th>free sulfur dioxide</th>\n",
              "      <th>total sulfur dioxide</th>\n",
              "      <th>density</th>\n",
              "      <th>pH</th>\n",
              "      <th>sulphates</th>\n",
              "      <th>alcohol</th>\n",
              "      <th>quality</th>\n",
              "    </tr>\n",
              "  </thead>\n",
              "  <tbody>\n",
              "    <tr>\n",
              "      <th>0</th>\n",
              "      <td>7.4</td>\n",
              "      <td>0.70</td>\n",
              "      <td>0.00</td>\n",
              "      <td>1.9</td>\n",
              "      <td>0.076</td>\n",
              "      <td>11.0</td>\n",
              "      <td>34.0</td>\n",
              "      <td>0.9978</td>\n",
              "      <td>3.51</td>\n",
              "      <td>0.56</td>\n",
              "      <td>9.4</td>\n",
              "      <td>5</td>\n",
              "    </tr>\n",
              "    <tr>\n",
              "      <th>1</th>\n",
              "      <td>7.8</td>\n",
              "      <td>0.88</td>\n",
              "      <td>0.00</td>\n",
              "      <td>2.6</td>\n",
              "      <td>0.098</td>\n",
              "      <td>25.0</td>\n",
              "      <td>67.0</td>\n",
              "      <td>0.9968</td>\n",
              "      <td>3.20</td>\n",
              "      <td>0.68</td>\n",
              "      <td>9.8</td>\n",
              "      <td>5</td>\n",
              "    </tr>\n",
              "    <tr>\n",
              "      <th>2</th>\n",
              "      <td>7.8</td>\n",
              "      <td>0.76</td>\n",
              "      <td>0.04</td>\n",
              "      <td>2.3</td>\n",
              "      <td>0.092</td>\n",
              "      <td>15.0</td>\n",
              "      <td>54.0</td>\n",
              "      <td>0.9970</td>\n",
              "      <td>3.26</td>\n",
              "      <td>0.65</td>\n",
              "      <td>9.8</td>\n",
              "      <td>5</td>\n",
              "    </tr>\n",
              "    <tr>\n",
              "      <th>3</th>\n",
              "      <td>11.2</td>\n",
              "      <td>0.28</td>\n",
              "      <td>0.56</td>\n",
              "      <td>1.9</td>\n",
              "      <td>0.075</td>\n",
              "      <td>17.0</td>\n",
              "      <td>60.0</td>\n",
              "      <td>0.9980</td>\n",
              "      <td>3.16</td>\n",
              "      <td>0.58</td>\n",
              "      <td>9.8</td>\n",
              "      <td>6</td>\n",
              "    </tr>\n",
              "    <tr>\n",
              "      <th>4</th>\n",
              "      <td>7.4</td>\n",
              "      <td>0.70</td>\n",
              "      <td>0.00</td>\n",
              "      <td>1.9</td>\n",
              "      <td>0.076</td>\n",
              "      <td>11.0</td>\n",
              "      <td>34.0</td>\n",
              "      <td>0.9978</td>\n",
              "      <td>3.51</td>\n",
              "      <td>0.56</td>\n",
              "      <td>9.4</td>\n",
              "      <td>5</td>\n",
              "    </tr>\n",
              "  </tbody>\n",
              "</table>\n",
              "</div>"
            ],
            "text/plain": [
              "   fixed acidity  volatile acidity  citric acid  ...  sulphates  alcohol  quality\n",
              "0            7.4              0.70         0.00  ...       0.56      9.4        5\n",
              "1            7.8              0.88         0.00  ...       0.68      9.8        5\n",
              "2            7.8              0.76         0.04  ...       0.65      9.8        5\n",
              "3           11.2              0.28         0.56  ...       0.58      9.8        6\n",
              "4            7.4              0.70         0.00  ...       0.56      9.4        5\n",
              "\n",
              "[5 rows x 12 columns]"
            ]
          },
          "metadata": {
            "tags": []
          },
          "execution_count": 60
        }
      ]
    },
    {
      "cell_type": "markdown",
      "metadata": {
        "id": "sdSkx6NXF6S8"
      },
      "source": [
        "existe um desbalanceamento na qualidade vinho: baixa e alta qualidade"
      ]
    },
    {
      "cell_type": "code",
      "metadata": {
        "colab": {
          "base_uri": "https://localhost:8080/"
        },
        "id": "ITwc-7unDfO5",
        "outputId": "8c9ff9a0-c237-43ea-ec81-3befeea4774f"
      },
      "source": [
        "df_wine.columns"
      ],
      "execution_count": 61,
      "outputs": [
        {
          "output_type": "execute_result",
          "data": {
            "text/plain": [
              "Index(['fixed acidity', 'volatile acidity', 'citric acid', 'residual sugar',\n",
              "       'chlorides', 'free sulfur dioxide', 'total sulfur dioxide', 'density',\n",
              "       'pH', 'sulphates', 'alcohol', 'quality'],\n",
              "      dtype='object')"
            ]
          },
          "metadata": {
            "tags": []
          },
          "execution_count": 61
        }
      ]
    },
    {
      "cell_type": "code",
      "metadata": {
        "colab": {
          "base_uri": "https://localhost:8080/",
          "height": 464
        },
        "id": "COsCcNAL_iXd",
        "outputId": "f13c1ba6-11d6-4a74-80ac-b0e88ed61f01"
      },
      "source": [
        "quality = df_wine['quality'].values\r\n",
        "category = []\r\n",
        "for num in quality:\r\n",
        "  if num<5:\r\n",
        "    category.append('Bad')\r\n",
        "  else:\r\n",
        "    category.append('Good')\r\n",
        "\r\n",
        "#Create new Data\r\n",
        "category = pd.DataFrame(data=category, columns=['category'])\r\n",
        "df_wine = pd.concat([df_wine, category], axis=1)\r\n",
        "df_wine.drop(columns='quality',axis=1,inplace=True)\r\n",
        "\r\n",
        "plt.figure(figsize=(10,6))\r\n",
        "sns.countplot(df_wine['category'], palette='muted')\r\n",
        "\r\n"
      ],
      "execution_count": 62,
      "outputs": [
        {
          "output_type": "stream",
          "text": [
            "/usr/local/lib/python3.7/dist-packages/seaborn/_decorators.py:43: FutureWarning: Pass the following variable as a keyword arg: x. From version 0.12, the only valid positional argument will be `data`, and passing other arguments without an explicit keyword will result in an error or misinterpretation.\n",
            "  FutureWarning\n"
          ],
          "name": "stderr"
        },
        {
          "output_type": "execute_result",
          "data": {
            "text/plain": [
              "<matplotlib.axes._subplots.AxesSubplot at 0x7f9f7ee47490>"
            ]
          },
          "metadata": {
            "tags": []
          },
          "execution_count": 62
        },
        {
          "output_type": "display_data",
          "data": {
            "image/png": "[encoded data removed]",
            "text/plain": [
              "<Figure size 720x432 with 1 Axes>"
            ]
          },
          "metadata": {
            "tags": [],
            "needs_background": "light"
          }
        }
      ]
    },
    {
      "cell_type": "code",
      "metadata": {
        "colab": {
          "base_uri": "https://localhost:8080/"
        },
        "id": "qUi_0cvFFjsV",
        "outputId": "db93812f-f0cd-4db6-bf2c-ab5dfd7b4ab8"
      },
      "source": [
        "df_wine['category'].value_counts()"
      ],
      "execution_count": 63,
      "outputs": [
        {
          "output_type": "execute_result",
          "data": {
            "text/plain": [
              "Good    1536\n",
              "Bad       63\n",
              "Name: category, dtype: int64"
            ]
          },
          "metadata": {
            "tags": []
          },
          "execution_count": 63
        }
      ]
    },
    {
      "cell_type": "markdown",
      "metadata": {
        "id": "_43YSSTFI9So"
      },
      "source": [
        "processo para deixar mais balanceado"
      ]
    },
    {
      "cell_type": "markdown",
      "metadata": {
        "id": "eVkFdByxKtio"
      },
      "source": [
        "**Métodos para lidar com dados desbalanceados:**\r\n",
        "\r\n",
        "1- Reestruturação dos Dados: manipular a quantidade de dados que são efetivamente utilizados pelo modelo, tentando igualar o número de observações entre as classes\r\n",
        "\r\n",
        "\r\n",
        "*   Undersampling: reduzir o número de observações de classe majoritária\r\n",
        "*   Oversampling: criar sinteticamente novas observações da classe minoritária\r\n",
        "\r\n"
      ]
    },
    {
      "cell_type": "markdown",
      "metadata": {
        "id": "_9Ad56mkNn3P"
      },
      "source": [
        "*Undersampling*\r\n",
        " - Random Undersampler\r\n",
        " - NearMIss\r\n",
        " - OndeSidedSelection \r\n"
      ]
    },
    {
      "cell_type": "code",
      "metadata": {
        "colab": {
          "base_uri": "https://localhost:8080/",
          "height": 596
        },
        "id": "6ta-AGuJGw7i",
        "outputId": "fd813a83-fa63-48d0-f3c8-2180aa3600e4"
      },
      "source": [
        "X = df_wine.drop('category', axis=1)\r\n",
        "y = df_wine['category']\r\n",
        "\r\n",
        "X_train, X_test, y_train, y_test = train_test_split(X, y, stratify=y, shuffle=True)\r\n",
        "\r\n",
        "#Random Undersampler: aleartoriamente com ou sem substituição\r\n",
        "rus = RandomUnderSampler()\r\n",
        "X_rus_res, y_rus_res = rus.fit_resample(X_train, y_train)\r\n",
        "\r\n",
        "#NearMIss: usando vizinhos mais proximo(kNN)\r\n",
        "nm = NearMiss()\r\n",
        "X_nm_res, y_nm_res = nm.fit_resample(X_train, y_train)\r\n",
        "\r\n",
        "#OndeSidedSelection (Algoritmo tipo KNN): seleção unilateral\r\n",
        "oss = OneSidedSelection()\r\n",
        "#X_oss_res, y_oss_res = oss.fit.resample(X_train, y_train)\r\n",
        "plt.figure(figsize=(10,6))\r\n",
        "sns.countplot(y_rus_res, palette='muted')\r\n"
      ],
      "execution_count": 64,
      "outputs": [
        {
          "output_type": "stream",
          "text": [
            "/usr/local/lib/python3.7/dist-packages/sklearn/utils/deprecation.py:87: FutureWarning: Function safe_indexing is deprecated; safe_indexing is deprecated in version 0.22 and will be removed in version 0.24.\n",
            "  warnings.warn(msg, category=FutureWarning)\n",
            "/usr/local/lib/python3.7/dist-packages/sklearn/utils/deprecation.py:87: FutureWarning: Function safe_indexing is deprecated; safe_indexing is deprecated in version 0.22 and will be removed in version 0.24.\n",
            "  warnings.warn(msg, category=FutureWarning)\n",
            "/usr/local/lib/python3.7/dist-packages/sklearn/utils/deprecation.py:87: FutureWarning: Function safe_indexing is deprecated; safe_indexing is deprecated in version 0.22 and will be removed in version 0.24.\n",
            "  warnings.warn(msg, category=FutureWarning)\n",
            "/usr/local/lib/python3.7/dist-packages/sklearn/utils/deprecation.py:87: FutureWarning: Function safe_indexing is deprecated; safe_indexing is deprecated in version 0.22 and will be removed in version 0.24.\n",
            "  warnings.warn(msg, category=FutureWarning)\n",
            "/usr/local/lib/python3.7/dist-packages/seaborn/_decorators.py:43: FutureWarning: Pass the following variable as a keyword arg: x. From version 0.12, the only valid positional argument will be `data`, and passing other arguments without an explicit keyword will result in an error or misinterpretation.\n",
            "  FutureWarning\n"
          ],
          "name": "stderr"
        },
        {
          "output_type": "execute_result",
          "data": {
            "text/plain": [
              "<matplotlib.axes._subplots.AxesSubplot at 0x7f9f7ebf6c90>"
            ]
          },
          "metadata": {
            "tags": []
          },
          "execution_count": 64
        },
        {
          "output_type": "display_data",
          "data": {
            "image/png": "[encoded data removed]",
            "text/plain": [
              "<Figure size 720x432 with 1 Axes>"
            ]
          },
          "metadata": {
            "tags": [],
            "needs_background": "light"
          }
        }
      ]
    },
    {
      "cell_type": "markdown",
      "metadata": {
        "id": "v04L6gRFNJQU"
      },
      "source": [
        "-Ao final a intenção é ter a mesma quantidade de vinho bom e ruim."
      ]
    },
    {
      "cell_type": "markdown",
      "metadata": {
        "id": "Pk8h9LO0NyhV"
      },
      "source": [
        "*Oversampling*\r\n",
        "  - Cópia de dados já existentes: duplicar observaçãoes\r\n",
        "  - SMOTE: criar observações intermediarias entre dados parecedido\r\n"
      ]
    },
    {
      "cell_type": "code",
      "metadata": {
        "colab": {
          "base_uri": "https://localhost:8080/",
          "height": 487
        },
        "id": "lwvvPQFaI43T",
        "outputId": "0898ab94-8af6-40a1-ce0d-a33547c3fb5a"
      },
      "source": [
        "X = df_wine.drop('category', axis=1)\r\n",
        "y = df_wine['category']\r\n",
        "\r\n",
        "X_train, X_test, y_train, y_tes = train_test_split(X, y, stratify=y, shuffle=True)\r\n",
        "\r\n",
        "#SMOTE\r\n",
        "smote = SMOTE(random_state= 32)\r\n",
        "X_smote_res, y_smote_res = smote.fit_resample(X,y)\r\n",
        "\r\n",
        "plt.figure(figsize=(10,6))\r\n",
        "sns.countplot(y_smote_res, palette='muted')"
      ],
      "execution_count": 65,
      "outputs": [
        {
          "output_type": "stream",
          "text": [
            "/usr/local/lib/python3.7/dist-packages/sklearn/utils/deprecation.py:87: FutureWarning: Function safe_indexing is deprecated; safe_indexing is deprecated in version 0.22 and will be removed in version 0.24.\n",
            "  warnings.warn(msg, category=FutureWarning)\n",
            "/usr/local/lib/python3.7/dist-packages/seaborn/_decorators.py:43: FutureWarning: Pass the following variable as a keyword arg: x. From version 0.12, the only valid positional argument will be `data`, and passing other arguments without an explicit keyword will result in an error or misinterpretation.\n",
            "  FutureWarning\n"
          ],
          "name": "stderr"
        },
        {
          "output_type": "execute_result",
          "data": {
            "text/plain": [
              "<matplotlib.axes._subplots.AxesSubplot at 0x7f9f7ea45190>"
            ]
          },
          "metadata": {
            "tags": []
          },
          "execution_count": 65
        },
        {
          "output_type": "display_data",
          "data": {
            "image/png": "[encoded data removed]",
            "text/plain": [
              "<Figure size 720x432 with 1 Axes>"
            ]
          },
          "metadata": {
            "tags": [],
            "needs_background": "light"
          }
        }
      ]
    },
    {
      "cell_type": "markdown",
      "metadata": {
        "id": "QwE5vVTlRepo"
      },
      "source": [
        "Os dados deixam de está desbalanceados."
      ]
    },
    {
      "cell_type": "markdown",
      "metadata": {
        "id": "h9YQRiFAS_1f"
      },
      "source": [
        "Exercicio: \r\n",
        "- Analisar o Balanceamento dos dados considerando a classe Sexo\r\n",
        "\r\n",
        "- Utilizar alguam técnica para solucionar qualquer problema de balanceamento dos dados."
      ]
    },
    {
      "cell_type": "code",
      "metadata": {
        "colab": {
          "base_uri": "https://localhost:8080/"
        },
        "id": "uik8i5mBTAb-",
        "outputId": "01ca0a79-b2ff-418a-a260-917708599287"
      },
      "source": [
        "df_candidatos = pd.read_csv(\"/content/drive/MyDrive/candidatos_deputados_2014_final.csv\")"
      ],
      "execution_count": 89,
      "outputs": [
        {
          "output_type": "stream",
          "text": [
            "/usr/local/lib/python3.7/dist-packages/IPython/core/interactiveshell.py:2718: DtypeWarning: Columns (27,30,37,41,47) have mixed types.Specify dtype option on import or set low_memory=False.\n",
            "  interactivity=interactivity, compiler=compiler, result=result)\n"
          ],
          "name": "stderr"
        }
      ]
    },
    {
      "cell_type": "code",
      "metadata": {
        "colab": {
          "base_uri": "https://localhost:8080/",
          "height": 202
        },
        "id": "-HMaLNSPTpYA",
        "outputId": "38d21aec-bb2c-45d0-e7d2-195f70830c96"
      },
      "source": [
        "df_candidatos.head(2)"
      ],
      "execution_count": 90,
      "outputs": [
        {
          "output_type": "execute_result",
          "data": {
            "text/html": [
              "<div>\n",
              "<style scoped>\n",
              "    .dataframe tbody tr th:only-of-type {\n",
              "        vertical-align: middle;\n",
              "    }\n",
              "\n",
              "    .dataframe tbody tr th {\n",
              "        vertical-align: top;\n",
              "    }\n",
              "\n",
              "    .dataframe thead th {\n",
              "        text-align: right;\n",
              "    }\n",
              "</style>\n",
              "<table border=\"1\" class=\"dataframe\">\n",
              "  <thead>\n",
              "    <tr style=\"text-align: right;\">\n",
              "      <th></th>\n",
              "      <th>SIGLA_UF</th>\n",
              "      <th>CODIGO_CARGO</th>\n",
              "      <th>DESCRICAO_CARGO</th>\n",
              "      <th>NOME_CANDIDATO</th>\n",
              "      <th>SEQUENCIAL_CANDIDATO</th>\n",
              "      <th>COD_SITUACAO_CANDIDATURA</th>\n",
              "      <th>DES_SITUACAO_CANDIDATURA</th>\n",
              "      <th>NUMERO_PARTIDO</th>\n",
              "      <th>CODIGO_LEGENDA</th>\n",
              "      <th>CODIGO_OCUPACAO</th>\n",
              "      <th>DESCRICAO_OCUPACAO</th>\n",
              "      <th>IDADE_DATA_ELEICAO</th>\n",
              "      <th>CODIGO_SEXO</th>\n",
              "      <th>DESCRICAO_SEXO</th>\n",
              "      <th>COD_GRAU_INSTRUCAO</th>\n",
              "      <th>DESCRICAO_GRAU_INSTRUCAO</th>\n",
              "      <th>CODIGO_ESTADO_CIVIL</th>\n",
              "      <th>DESCRICAO_ESTADO_CIVIL</th>\n",
              "      <th>CODIGO_COR_RACA</th>\n",
              "      <th>DESCRICAO_COR_RACA</th>\n",
              "      <th>CODIGO_NACIONALIDADE</th>\n",
              "      <th>DESCRICAO_NACIONALIDADE</th>\n",
              "      <th>DESPESA_MAX_CAMPANHA</th>\n",
              "      <th>COD_SIT_TOT_TURNO</th>\n",
              "      <th>DESC_SIT_TOT_TURNO</th>\n",
              "      <th>VALOR_BEM</th>\n",
              "      <th>SETOR_A</th>\n",
              "      <th>SETOR_B</th>\n",
              "      <th>SETOR_C</th>\n",
              "      <th>SETOR_D</th>\n",
              "      <th>SETOR_E</th>\n",
              "      <th>SETOR_F</th>\n",
              "      <th>SETOR_G</th>\n",
              "      <th>SETOR_H</th>\n",
              "      <th>SETOR_I</th>\n",
              "      <th>SETOR_J</th>\n",
              "      <th>SETOR_K</th>\n",
              "      <th>SETOR_L</th>\n",
              "      <th>SETOR_M</th>\n",
              "      <th>SETOR_N</th>\n",
              "      <th>SETOR_O</th>\n",
              "      <th>SETOR_P</th>\n",
              "      <th>SETOR_Q</th>\n",
              "      <th>SETOR_R</th>\n",
              "      <th>SETOR_S</th>\n",
              "      <th>SETOR_NAO_IDENTIFICADO</th>\n",
              "      <th>TP_RECEITA_APLICACAO</th>\n",
              "      <th>TP_RECEITA_EVENTO</th>\n",
              "      <th>TP_RECEITA_FISICA</th>\n",
              "      <th>TP_RECEITA_INTERNET</th>\n",
              "      <th>TP_RECEITA_JURIDICA</th>\n",
              "      <th>TP_RECEITA_NAO_IDENTIFICADA</th>\n",
              "      <th>TP_RECEITA_OUTRO</th>\n",
              "      <th>TP_RECEITA_PARTIDO</th>\n",
              "      <th>TP_RECEITA_PROPRIO</th>\n",
              "      <th>VALOR_RECEITA</th>\n",
              "    </tr>\n",
              "  </thead>\n",
              "  <tbody>\n",
              "    <tr>\n",
              "      <th>0</th>\n",
              "      <td>AC</td>\n",
              "      <td>7</td>\n",
              "      <td>DEPUTADO ESTADUAL</td>\n",
              "      <td>BENEDITO SILVA BARBOSA</td>\n",
              "      <td>10000000504</td>\n",
              "      <td>2</td>\n",
              "      <td>DEFERIDO</td>\n",
              "      <td>23</td>\n",
              "      <td>10000000034</td>\n",
              "      <td>266</td>\n",
              "      <td>PROFESSOR DE ENSINO MÉDIO</td>\n",
              "      <td>46</td>\n",
              "      <td>2</td>\n",
              "      <td>MASCULINO</td>\n",
              "      <td>8</td>\n",
              "      <td>SUPERIOR COMPLETO</td>\n",
              "      <td>9</td>\n",
              "      <td>DIVORCIADO(A)</td>\n",
              "      <td>3</td>\n",
              "      <td>PARDA</td>\n",
              "      <td>1</td>\n",
              "      <td>BRASILEIRA NATA</td>\n",
              "      <td>1000000</td>\n",
              "      <td>5</td>\n",
              "      <td>SUPLENTE</td>\n",
              "      <td>210000.0</td>\n",
              "      <td>0.0</td>\n",
              "      <td>0.0</td>\n",
              "      <td>0.0</td>\n",
              "      <td>0.0</td>\n",
              "      <td>0.0</td>\n",
              "      <td>490.5</td>\n",
              "      <td>0.0</td>\n",
              "      <td>0.0</td>\n",
              "      <td>0.0</td>\n",
              "      <td>0.0</td>\n",
              "      <td>0.0</td>\n",
              "      <td>0</td>\n",
              "      <td>0.0</td>\n",
              "      <td>0.0</td>\n",
              "      <td>0.0</td>\n",
              "      <td>0.0</td>\n",
              "      <td>0.0</td>\n",
              "      <td>0.0</td>\n",
              "      <td>200.0</td>\n",
              "      <td>1500.0</td>\n",
              "      <td>0.0</td>\n",
              "      <td>0</td>\n",
              "      <td>0.0</td>\n",
              "      <td>0.0</td>\n",
              "      <td>0.0</td>\n",
              "      <td>0.0</td>\n",
              "      <td>0.0</td>\n",
              "      <td>690.5</td>\n",
              "      <td>1500.0</td>\n",
              "      <td>2190.5</td>\n",
              "    </tr>\n",
              "    <tr>\n",
              "      <th>1</th>\n",
              "      <td>AC</td>\n",
              "      <td>7</td>\n",
              "      <td>DEPUTADO ESTADUAL</td>\n",
              "      <td>MARIA APARECIDA ALVES DE SOUZA</td>\n",
              "      <td>10000000055</td>\n",
              "      <td>2</td>\n",
              "      <td>DEFERIDO</td>\n",
              "      <td>12</td>\n",
              "      <td>10000000021</td>\n",
              "      <td>254</td>\n",
              "      <td>VIGILANTE</td>\n",
              "      <td>32</td>\n",
              "      <td>4</td>\n",
              "      <td>FEMININO</td>\n",
              "      <td>6</td>\n",
              "      <td>ENSINO MÉDIO COMPLETO</td>\n",
              "      <td>1</td>\n",
              "      <td>SOLTEIRO(A)</td>\n",
              "      <td>3</td>\n",
              "      <td>PARDA</td>\n",
              "      <td>1</td>\n",
              "      <td>BRASILEIRA NATA</td>\n",
              "      <td>600000</td>\n",
              "      <td>5</td>\n",
              "      <td>SUPLENTE</td>\n",
              "      <td>38918.17</td>\n",
              "      <td>0.0</td>\n",
              "      <td>0.0</td>\n",
              "      <td>0.0</td>\n",
              "      <td>0.0</td>\n",
              "      <td>0.0</td>\n",
              "      <td>0.0</td>\n",
              "      <td>0.0</td>\n",
              "      <td>0.0</td>\n",
              "      <td>0.0</td>\n",
              "      <td>0.0</td>\n",
              "      <td>0.0</td>\n",
              "      <td>0</td>\n",
              "      <td>0.0</td>\n",
              "      <td>0.0</td>\n",
              "      <td>0.0</td>\n",
              "      <td>0.0</td>\n",
              "      <td>0.0</td>\n",
              "      <td>0.0</td>\n",
              "      <td>821.88</td>\n",
              "      <td>0.0</td>\n",
              "      <td>0.0</td>\n",
              "      <td>0</td>\n",
              "      <td>0.0</td>\n",
              "      <td>0.0</td>\n",
              "      <td>0.0</td>\n",
              "      <td>0.0</td>\n",
              "      <td>821.88</td>\n",
              "      <td>0.0</td>\n",
              "      <td>0.0</td>\n",
              "      <td>821.88</td>\n",
              "    </tr>\n",
              "  </tbody>\n",
              "</table>\n",
              "</div>"
            ],
            "text/plain": [
              "  SIGLA_UF  CODIGO_CARGO  ... TP_RECEITA_PROPRIO VALOR_RECEITA\n",
              "0       AC             7  ...             1500.0        2190.5\n",
              "1       AC             7  ...                0.0        821.88\n",
              "\n",
              "[2 rows x 56 columns]"
            ]
          },
          "metadata": {
            "tags": []
          },
          "execution_count": 90
        }
      ]
    },
    {
      "cell_type": "code",
      "metadata": {
        "colab": {
          "base_uri": "https://localhost:8080/"
        },
        "id": "_GycmnXNTtiv",
        "outputId": "033f18c4-f4cc-4235-b8c0-c39338fb231c"
      },
      "source": [
        "df_candidatos.columns"
      ],
      "execution_count": 68,
      "outputs": [
        {
          "output_type": "execute_result",
          "data": {
            "text/plain": [
              "Index(['SIGLA_UF', 'CODIGO_CARGO', 'DESCRICAO_CARGO', 'NOME_CANDIDATO',\n",
              "       'SEQUENCIAL_CANDIDATO', 'COD_SITUACAO_CANDIDATURA',\n",
              "       'DES_SITUACAO_CANDIDATURA', 'NUMERO_PARTIDO', 'CODIGO_LEGENDA',\n",
              "       'CODIGO_OCUPACAO', 'DESCRICAO_OCUPACAO', 'IDADE_DATA_ELEICAO',\n",
              "       'CODIGO_SEXO', 'DESCRICAO_SEXO', 'COD_GRAU_INSTRUCAO',\n",
              "       'DESCRICAO_GRAU_INSTRUCAO', 'CODIGO_ESTADO_CIVIL',\n",
              "       'DESCRICAO_ESTADO_CIVIL', 'CODIGO_COR_RACA', 'DESCRICAO_COR_RACA',\n",
              "       'CODIGO_NACIONALIDADE', 'DESCRICAO_NACIONALIDADE',\n",
              "       'DESPESA_MAX_CAMPANHA', 'COD_SIT_TOT_TURNO', 'DESC_SIT_TOT_TURNO',\n",
              "       'VALOR_BEM', 'SETOR_A', 'SETOR_B', 'SETOR_C', 'SETOR_D', 'SETOR_E',\n",
              "       'SETOR_F', 'SETOR_G', 'SETOR_H', 'SETOR_I', 'SETOR_J', 'SETOR_K',\n",
              "       'SETOR_L', 'SETOR_M', 'SETOR_N', 'SETOR_O', 'SETOR_P', 'SETOR_Q',\n",
              "       'SETOR_R', 'SETOR_S', 'SETOR_NAO_IDENTIFICADO', 'TP_RECEITA_APLICACAO',\n",
              "       'TP_RECEITA_EVENTO', 'TP_RECEITA_FISICA', 'TP_RECEITA_INTERNET',\n",
              "       'TP_RECEITA_JURIDICA', 'TP_RECEITA_NAO_IDENTIFICADA',\n",
              "       'TP_RECEITA_OUTRO', 'TP_RECEITA_PARTIDO', 'TP_RECEITA_PROPRIO',\n",
              "       'VALOR_RECEITA'],\n",
              "      dtype='object')"
            ]
          },
          "metadata": {
            "tags": []
          },
          "execution_count": 68
        }
      ]
    },
    {
      "cell_type": "code",
      "metadata": {
        "colab": {
          "base_uri": "https://localhost:8080/"
        },
        "id": "R8kumEI7XUER",
        "outputId": "27e2bcd1-e32a-431a-bc21-48f65ad6df10"
      },
      "source": [
        "df_candidatos['DESCRICAO_SEXO'].value_counts()"
      ],
      "execution_count": 78,
      "outputs": [
        {
          "output_type": "execute_result",
          "data": {
            "text/plain": [
              "MASCULINO    14962\n",
              "FEMININO      6162\n",
              "Name: DESCRICAO_SEXO, dtype: int64"
            ]
          },
          "metadata": {
            "tags": []
          },
          "execution_count": 78
        }
      ]
    },
    {
      "cell_type": "code",
      "metadata": {
        "colab": {
          "base_uri": "https://localhost:8080/",
          "height": 355
        },
        "id": "TC5VlFyHb0Dn",
        "outputId": "1f52b511-2b7b-428f-be1e-5eb59438840d"
      },
      "source": [
        "sns.countplot(df_candidatos['DESCRICAO_SEXO'], palette='muted')"
      ],
      "execution_count": 88,
      "outputs": [
        {
          "output_type": "stream",
          "text": [
            "/usr/local/lib/python3.7/dist-packages/seaborn/_decorators.py:43: FutureWarning: Pass the following variable as a keyword arg: x. From version 0.12, the only valid positional argument will be `data`, and passing other arguments without an explicit keyword will result in an error or misinterpretation.\n",
            "  FutureWarning\n"
          ],
          "name": "stderr"
        },
        {
          "output_type": "execute_result",
          "data": {
            "text/plain": [
              "<matplotlib.axes._subplots.AxesSubplot at 0x7f9f7d8a30d0>"
            ]
          },
          "metadata": {
            "tags": []
          },
          "execution_count": 88
        },
        {
          "output_type": "display_data",
          "data": {
            "image/png": "[encoded data removed]",
            "text/plain": [
              "<Figure size 432x288 with 1 Axes>"
            ]
          },
          "metadata": {
            "tags": [],
            "needs_background": "light"
          }
        }
      ]
    },
    {
      "cell_type": "markdown",
      "metadata": {
        "id": "E-RnktPpcVui"
      },
      "source": [
        "Pegamos duas colunas, que não tem NAn"
      ]
    },
    {
      "cell_type": "code",
      "metadata": {
        "colab": {
          "base_uri": "https://localhost:8080/"
        },
        "id": "NyAHj69ccZ-I",
        "outputId": "69079c35-fad8-4824-ab46-4dc10dca5a8c"
      },
      "source": [
        "#criação de um novo df, para não pegar Nan, se não dar erro...\r\n",
        "df_candid = df_candidatos[['SIGLA_UF', 'DESCRICAO_SEXO']]\r\n",
        "df_candid['DESCRICAO_SEXO'] = df_candidatos['DESCRICAO_SEXO'].astype('string')"
      ],
      "execution_count": 108,
      "outputs": [
        {
          "output_type": "stream",
          "text": [
            "/usr/local/lib/python3.7/dist-packages/ipykernel_launcher.py:3: SettingWithCopyWarning: \n",
            "A value is trying to be set on a copy of a slice from a DataFrame.\n",
            "Try using .loc[row_indexer,col_indexer] = value instead\n",
            "\n",
            "See the caveats in the documentation: https://pandas.pydata.org/pandas-docs/stable/user_guide/indexing.html#returning-a-view-versus-a-copy\n",
            "  This is separate from the ipykernel package so we can avoid doing imports until\n"
          ],
          "name": "stderr"
        }
      ]
    },
    {
      "cell_type": "markdown",
      "metadata": {
        "id": "zD_cBQ-qcE5p"
      },
      "source": [
        "Para balancear"
      ]
    },
    {
      "cell_type": "code",
      "metadata": {
        "id": "fb6RZVtBXsoi"
      },
      "source": [
        "#nossa classe\r\n",
        "X = df_candid.drop('DESCRICAO_SEXO', axis=1)\r\n",
        "y = df_candid['DESCRICAO_SEXO']"
      ],
      "execution_count": 105,
      "outputs": []
    },
    {
      "cell_type": "code",
      "metadata": {
        "colab": {
          "base_uri": "https://localhost:8080/",
          "height": 377
        },
        "id": "FiwBgWnNd_sn",
        "outputId": "000923b7-c6e1-417f-e755-4e34512588fb"
      },
      "source": [
        "X_train, X_test, y_train, y_test = train_test_split(X, y, stratify=y, shuffle=True)\r\n",
        "#Random Undersampler: aleartoriamente com ou sem substituição\r\n",
        "rus = RandomUnderSampler()\r\n",
        "X_rus_res, y_rus_res = rus.fit_resample(X_train, y_train)\r\n",
        "sns.countplot(y_rus_res, palette='muted')"
      ],
      "execution_count": 106,
      "outputs": [
        {
          "output_type": "stream",
          "text": [
            "/usr/local/lib/python3.7/dist-packages/sklearn/utils/deprecation.py:87: FutureWarning: Function safe_indexing is deprecated; safe_indexing is deprecated in version 0.22 and will be removed in version 0.24.\n",
            "  warnings.warn(msg, category=FutureWarning)\n",
            "/usr/local/lib/python3.7/dist-packages/seaborn/_decorators.py:43: FutureWarning: Pass the following variable as a keyword arg: x. From version 0.12, the only valid positional argument will be `data`, and passing other arguments without an explicit keyword will result in an error or misinterpretation.\n",
            "  FutureWarning\n"
          ],
          "name": "stderr"
        },
        {
          "output_type": "execute_result",
          "data": {
            "text/plain": [
              "<matplotlib.axes._subplots.AxesSubplot at 0x7f9f7cfb6e10>"
            ]
          },
          "metadata": {
            "tags": []
          },
          "execution_count": 106
        },
        {
          "output_type": "display_data",
          "data": {
            "image/png": "[encoded data removed]",
            "text/plain": [
              "<Figure size 432x288 with 1 Axes>"
            ]
          },
          "metadata": {
            "tags": [],
            "needs_background": "light"
          }
        }
      ]
    }
  ]
}