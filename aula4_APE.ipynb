{
  "nbformat": 4,
  "nbformat_minor": 0,
  "metadata": {
    "colab": {
      "name": "aula4-APE.ipynb",
      "provenance": [],
      "mount_file_id": "1xTmd3VG6q_ekZEDxnDkvewIWTJSDsFpj",
      "authorship_tag": "ABX9TyN6gQXbxP7ZcI51YC9AL5PM",
      "include_colab_link": true
    },
    "kernelspec": {
      "name": "python3",
      "display_name": "Python 3"
    }
  },
  "cells": [
    {
      "cell_type": "markdown",
      "metadata": {
        "id": "view-in-github",
        "colab_type": "text"
      },
      "source": [
        "<a href=\"https://colab.research.google.com/github/Jucicarla/APE/blob/main/aula4_APE.ipynb\" target=\"_parent\"><img src=\"https://colab.research.google.com/assets/colab-badge.svg\" alt=\"Open In Colab\"/></a>"
      ]
    },
    {
      "cell_type": "markdown",
      "metadata": {
        "id": "LYias6_WI-YW"
      },
      "source": [
        "**Aula sobre Exploração de dados**\r\n",
        "\r\n",
        "Insight são informações e/ou conhecimento que existem nos dados\r\n"
      ]
    },
    {
      "cell_type": "code",
      "metadata": {
        "id": "nigBiaGbI6ch"
      },
      "source": [
        "import pandas as pd\r\n",
        "import sqlite3\r\n",
        "import matplotlib.pyplot as plt\r\n",
        "import numpy as np\r\n",
        "import seaborn as sns\r\n",
        "\r\n"
      ],
      "execution_count": 16,
      "outputs": []
    },
    {
      "cell_type": "code",
      "metadata": {
        "id": "vBB-yp_BJgUL"
      },
      "source": [
        "con = sqlite3.connect('/content/drive/MyDrive/northwind_small.sqlite')"
      ],
      "execution_count": 17,
      "outputs": []
    },
    {
      "cell_type": "markdown",
      "metadata": {
        "id": "HvCXuAv3QWNg"
      },
      "source": [
        "Objetivo: \r\n",
        "  - Descobrir quais grupos de clientes mais contribuiram para os resultados financeiros da Northwindo\r\n",
        "  - Questão do negocio: A receita média por pedido varia entre clientes de diferentes regiões "
      ]
    },
    {
      "cell_type": "markdown",
      "metadata": {
        "id": "v2jt7zNCP-o0"
      },
      "source": [
        "Declarando as hipóteses:\r\n",
        "\r\n",
        "    • Ho (Hipótese nula): o valor médio gasto por pedido é o mesmo entre as diferentes regiões do cliente.\r\n",
        "    • H1 (Hipótese alternativa): o valor médio gasto por pedido é diferente (maior ou menor) entre as diferentes regiões do cliente\r\n",
        "    • O nível alfa (ou seja, a probabilidade de rejeitar a hipótese nula quando ela for verdadeira) foi definido em 0,05.\r\n",
        "    • Vou comparar multimplas medias. Usando ANOVA"
      ]
    },
    {
      "cell_type": "markdown",
      "metadata": {
        "id": "P4Q9aRpbRJmS"
      },
      "source": [
        "Precisava extrair: região do cliente, a\r\n",
        "quantidade total de cada produto pedido,\r\n",
        "o preço unitário e o nível de desconto para cada pedido."
      ]
    },
    {
      "cell_type": "code",
      "metadata": {
        "id": "fs7xdbcgKS3W"
      },
      "source": [
        "str_query = ('SELECT c.Region, od.OrderId, od.Quantity,'\r\n",
        "             'od.UnitPrice, od.Discount '\r\n",
        "             'FROM Customer c '\r\n",
        "             'JOIN [Order] o ON c.Id = o.CustomerId '\r\n",
        "             'JOIN OrderDetail od ON od.OrderId = o.Id' )"
      ],
      "execution_count": 18,
      "outputs": []
    },
    {
      "cell_type": "code",
      "metadata": {
        "id": "kvFXbCRVS-xh"
      },
      "source": [
        "df = pd.read_sql_query(str_query, con)"
      ],
      "execution_count": 19,
      "outputs": []
    },
    {
      "cell_type": "code",
      "metadata": {
        "colab": {
          "base_uri": "https://localhost:8080/",
          "height": 206
        },
        "id": "otJB5D5VctoZ",
        "outputId": "f56eb5df-27d0-4ba2-8b7f-cb5aae506205"
      },
      "source": [
        "df.head()"
      ],
      "execution_count": 20,
      "outputs": [
        {
          "output_type": "execute_result",
          "data": {
            "text/html": [
              "<div>\n",
              "<style scoped>\n",
              "    .dataframe tbody tr th:only-of-type {\n",
              "        vertical-align: middle;\n",
              "    }\n",
              "\n",
              "    .dataframe tbody tr th {\n",
              "        vertical-align: top;\n",
              "    }\n",
              "\n",
              "    .dataframe thead th {\n",
              "        text-align: right;\n",
              "    }\n",
              "</style>\n",
              "<table border=\"1\" class=\"dataframe\">\n",
              "  <thead>\n",
              "    <tr style=\"text-align: right;\">\n",
              "      <th></th>\n",
              "      <th>Region</th>\n",
              "      <th>OrderId</th>\n",
              "      <th>Quantity</th>\n",
              "      <th>UnitPrice</th>\n",
              "      <th>Discount</th>\n",
              "    </tr>\n",
              "  </thead>\n",
              "  <tbody>\n",
              "    <tr>\n",
              "      <th>0</th>\n",
              "      <td>Western Europe</td>\n",
              "      <td>10248</td>\n",
              "      <td>12</td>\n",
              "      <td>14.0</td>\n",
              "      <td>0.0</td>\n",
              "    </tr>\n",
              "    <tr>\n",
              "      <th>1</th>\n",
              "      <td>Western Europe</td>\n",
              "      <td>10248</td>\n",
              "      <td>10</td>\n",
              "      <td>9.8</td>\n",
              "      <td>0.0</td>\n",
              "    </tr>\n",
              "    <tr>\n",
              "      <th>2</th>\n",
              "      <td>Western Europe</td>\n",
              "      <td>10248</td>\n",
              "      <td>5</td>\n",
              "      <td>34.8</td>\n",
              "      <td>0.0</td>\n",
              "    </tr>\n",
              "    <tr>\n",
              "      <th>3</th>\n",
              "      <td>Western Europe</td>\n",
              "      <td>10249</td>\n",
              "      <td>9</td>\n",
              "      <td>18.6</td>\n",
              "      <td>0.0</td>\n",
              "    </tr>\n",
              "    <tr>\n",
              "      <th>4</th>\n",
              "      <td>Western Europe</td>\n",
              "      <td>10249</td>\n",
              "      <td>40</td>\n",
              "      <td>42.4</td>\n",
              "      <td>0.0</td>\n",
              "    </tr>\n",
              "  </tbody>\n",
              "</table>\n",
              "</div>"
            ],
            "text/plain": [
              "           Region  OrderId  Quantity  UnitPrice  Discount\n",
              "0  Western Europe    10248        12       14.0       0.0\n",
              "1  Western Europe    10248        10        9.8       0.0\n",
              "2  Western Europe    10248         5       34.8       0.0\n",
              "3  Western Europe    10249         9       18.6       0.0\n",
              "4  Western Europe    10249        40       42.4       0.0"
            ]
          },
          "metadata": {
            "tags": []
          },
          "execution_count": 20
        }
      ]
    },
    {
      "cell_type": "markdown",
      "metadata": {
        "id": "bUA8ft6idIQs"
      },
      "source": [
        "Solução: O que realmente precisa é a receita total por pedido, aplicando o desconto ao produto do preço unitário e da quantidade unitária"
      ]
    },
    {
      "cell_type": "code",
      "metadata": {
        "id": "s70WUgcRdGcL"
      },
      "source": [
        "df['price_per_order'] = df.Quantity *df.UnitPrice *(1- df.Discount)\r\n",
        "df.drop(['Quantity', 'UnitPrice', 'Discount'], axis=1, inplace=True)\r\n",
        "df = df.groupby(['Region', 'OrderId'])['price_per_order'].sum().reset_index()\r\n",
        "df.drop('OrderId', axis=1, inplace=True)"
      ],
      "execution_count": 21,
      "outputs": []
    },
    {
      "cell_type": "code",
      "metadata": {
        "colab": {
          "base_uri": "https://localhost:8080/",
          "height": 206
        },
        "id": "5F9lvHlqeZ_r",
        "outputId": "837ea66f-2e90-49a4-99d8-8b23753bc734"
      },
      "source": [
        "df.head()"
      ],
      "execution_count": 22,
      "outputs": [
        {
          "output_type": "execute_result",
          "data": {
            "text/html": [
              "<div>\n",
              "<style scoped>\n",
              "    .dataframe tbody tr th:only-of-type {\n",
              "        vertical-align: middle;\n",
              "    }\n",
              "\n",
              "    .dataframe tbody tr th {\n",
              "        vertical-align: top;\n",
              "    }\n",
              "\n",
              "    .dataframe thead th {\n",
              "        text-align: right;\n",
              "    }\n",
              "</style>\n",
              "<table border=\"1\" class=\"dataframe\">\n",
              "  <thead>\n",
              "    <tr style=\"text-align: right;\">\n",
              "      <th></th>\n",
              "      <th>Region</th>\n",
              "      <th>price_per_order</th>\n",
              "    </tr>\n",
              "  </thead>\n",
              "  <tbody>\n",
              "    <tr>\n",
              "      <th>0</th>\n",
              "      <td>British Isles</td>\n",
              "      <td>479.4</td>\n",
              "    </tr>\n",
              "    <tr>\n",
              "      <th>1</th>\n",
              "      <td>British Isles</td>\n",
              "      <td>2645.0</td>\n",
              "    </tr>\n",
              "    <tr>\n",
              "      <th>2</th>\n",
              "      <td>British Isles</td>\n",
              "      <td>1762.0</td>\n",
              "    </tr>\n",
              "    <tr>\n",
              "      <th>3</th>\n",
              "      <td>British Isles</td>\n",
              "      <td>516.8</td>\n",
              "    </tr>\n",
              "    <tr>\n",
              "      <th>4</th>\n",
              "      <td>British Isles</td>\n",
              "      <td>240.4</td>\n",
              "    </tr>\n",
              "  </tbody>\n",
              "</table>\n",
              "</div>"
            ],
            "text/plain": [
              "          Region  price_per_order\n",
              "0  British Isles            479.4\n",
              "1  British Isles           2645.0\n",
              "2  British Isles           1762.0\n",
              "3  British Isles            516.8\n",
              "4  British Isles            240.4"
            ]
          },
          "metadata": {
            "tags": []
          },
          "execution_count": 22
        }
      ]
    },
    {
      "cell_type": "markdown",
      "metadata": {
        "id": "opw-kVFXemIh"
      },
      "source": [
        "Solução: Também poderia acessar aos dados diretamente usando um sentença SQL"
      ]
    },
    {
      "cell_type": "code",
      "metadata": {
        "id": "Xjsa42cUeuB5"
      },
      "source": [
        "str_query = ('SELECT Region, sum(price_per_order)'\r\n",
        "             ' FROM (SELECT c.Region, od.OrderId, od.ProductId, od.Quantity,'\r\n",
        "             ' od.UnitPrice, od.Discount,'\r\n",
        "             ' od.Quantity * od.UnitPrice * (1 - od.Discount) price_per_order'\r\n",
        "             ' FROM Customer c'\r\n",
        "             ' JOIN [Order] o ON c.Id = o.CustomerId'\r\n",
        "             ' JOIN OrderDetail od ON od.OrderId = o.Id)'\r\n",
        "             ' GROUP BY Region, OrderId')"
      ],
      "execution_count": 23,
      "outputs": []
    },
    {
      "cell_type": "code",
      "metadata": {
        "id": "xR8qODdJgR00"
      },
      "source": [
        "df2 = pd.read_sql_query(str_query, con)\r\n"
      ],
      "execution_count": 24,
      "outputs": []
    },
    {
      "cell_type": "code",
      "metadata": {
        "colab": {
          "base_uri": "https://localhost:8080/",
          "height": 206
        },
        "id": "ABcE0a3WgdOm",
        "outputId": "abb45a53-5843-4c0d-a524-ff2ffd54fe02"
      },
      "source": [
        "df2.head()"
      ],
      "execution_count": 25,
      "outputs": [
        {
          "output_type": "execute_result",
          "data": {
            "text/html": [
              "<div>\n",
              "<style scoped>\n",
              "    .dataframe tbody tr th:only-of-type {\n",
              "        vertical-align: middle;\n",
              "    }\n",
              "\n",
              "    .dataframe tbody tr th {\n",
              "        vertical-align: top;\n",
              "    }\n",
              "\n",
              "    .dataframe thead th {\n",
              "        text-align: right;\n",
              "    }\n",
              "</style>\n",
              "<table border=\"1\" class=\"dataframe\">\n",
              "  <thead>\n",
              "    <tr style=\"text-align: right;\">\n",
              "      <th></th>\n",
              "      <th>Region</th>\n",
              "      <th>sum(price_per_order)</th>\n",
              "    </tr>\n",
              "  </thead>\n",
              "  <tbody>\n",
              "    <tr>\n",
              "      <th>0</th>\n",
              "      <td>British Isles</td>\n",
              "      <td>479.4</td>\n",
              "    </tr>\n",
              "    <tr>\n",
              "      <th>1</th>\n",
              "      <td>British Isles</td>\n",
              "      <td>2645.0</td>\n",
              "    </tr>\n",
              "    <tr>\n",
              "      <th>2</th>\n",
              "      <td>British Isles</td>\n",
              "      <td>1762.0</td>\n",
              "    </tr>\n",
              "    <tr>\n",
              "      <th>3</th>\n",
              "      <td>British Isles</td>\n",
              "      <td>516.8</td>\n",
              "    </tr>\n",
              "    <tr>\n",
              "      <th>4</th>\n",
              "      <td>British Isles</td>\n",
              "      <td>240.4</td>\n",
              "    </tr>\n",
              "  </tbody>\n",
              "</table>\n",
              "</div>"
            ],
            "text/plain": [
              "          Region  sum(price_per_order)\n",
              "0  British Isles                 479.4\n",
              "1  British Isles                2645.0\n",
              "2  British Isles                1762.0\n",
              "3  British Isles                 516.8\n",
              "4  British Isles                 240.4"
            ]
          },
          "metadata": {
            "tags": []
          },
          "execution_count": 25
        }
      ]
    },
    {
      "cell_type": "markdown",
      "metadata": {
        "id": "Mv4tsogXrwnh"
      },
      "source": [
        "Explorando os dados"
      ]
    },
    {
      "cell_type": "code",
      "metadata": {
        "colab": {
          "base_uri": "https://localhost:8080/",
          "height": 499
        },
        "id": "acDndk7Urvqc",
        "outputId": "b8f1fa8b-30d3-4f29-80cb-f8e3e7f24e68"
      },
      "source": [
        "fig, (ax1,ax2,ax3) = plt.subplots(3,1, figsize=(8,8))\r\n",
        "df.groupby(['Region'])['Region'].count().plot(kind='barh', ax=ax1)\r\n",
        "df.groupby(['Region'])['price_per_order'].sum().plot(kind='barh', ax=ax2)\r\n",
        "df.groupby(['Region'])['price_per_order'].mean().plot(kind='barh', ax=ax3)\r\n",
        "ax1.set_title('Total número de pedidos')\r\n",
        "ax1.set_ylabel('')\r\n",
        "ax2.set_title('Receita total por pedido($)')\r\n",
        "ax2.set_ylabel('')\r\n",
        "ax3.set_title('Receita média por periodo')\r\n",
        "ax3.set_ylabel('')\r\n",
        "fig.subplots_adjust(hspace=0.4)"
      ],
      "execution_count": 26,
      "outputs": [
        {
          "output_type": "display_data",
          "data": {
            "image/png": "[encoded data removed]",
            "text/plain": [
              "<Figure size 576x576 with 3 Axes>"
            ]
          },
          "metadata": {
            "tags": [],
            "needs_background": "light"
          }
        }
      ]
    },
    {
      "cell_type": "markdown",
      "metadata": {
        "id": "9YT5_hjivIrZ"
      },
      "source": [
        "- H0:o valor médio gasto por pedido é o mesmo entre as diferentes regiões do cliente\r\n",
        "- H1: o valor médio gasto por periodo é diferente entre as diferentes regiões do cliente"
      ]
    },
    {
      "cell_type": "markdown",
      "metadata": {
        "id": "rrR95vBQvfHh"
      },
      "source": [
        "Teste de Hipóteses com ANOVA\r\n",
        "\r\n",
        "- Para responde a pergunta se o valor médio gasto poer pedido varia entre clientes de diferentes regiões, foi usada ANOVA\r\n",
        "- ANOVA(análise de Variança) avalia o grau de variação entre várias amostras. No exemplo cada amostr é região diferente neste caso\r\n",
        "- ANOVA assume que:\r\n",
        "    - os dados são normalmente distribuidos\r\n",
        "    - as amostras têm variancias semelhantes\r\n"
      ]
    },
    {
      "cell_type": "markdown",
      "metadata": {
        "id": "T6R1VRkdvjD0"
      },
      "source": [
        "#Dados são normalmente distribuidos"
      ]
    },
    {
      "cell_type": "code",
      "metadata": {
        "colab": {
          "base_uri": "https://localhost:8080/",
          "height": 272
        },
        "id": "JVS7tQRIVKnU",
        "outputId": "5d50e3c2-6eb6-4b96-cce9-b8e0a88a6a32"
      },
      "source": [
        "# verifica se a distribuição é normal, \r\n",
        "# se for assimétrica não pode usar ANOVA\r\n",
        "fig,(ax1,ax2) = plt.subplots(1,2, figsize=(12,4))\r\n",
        "df3_log[['Region', 'price_per_order']].loc[df3_log.loc[:,'Region']=='British Isles'].hist(ax=ax1)\r\n",
        "df3_log[['Region', 'price_per_order2']].loc[df3_log.loc[:,'Region']=='British Isles'].hist(ax=ax2)\r\n",
        "ax1.set_title('British Isles')\r\n",
        "ax1.set_ylabel('')\r\n",
        "ax2.set_title('British Isles Log')\r\n",
        "ax2.set_ylabel('')\r\n"
      ],
      "execution_count": 34,
      "outputs": [
        {
          "output_type": "execute_result",
          "data": {
            "text/plain": [
              "Text(0, 0.5, '')"
            ]
          },
          "metadata": {
            "tags": []
          },
          "execution_count": 34
        },
        {
          "output_type": "display_data",
          "data": {
            "image/png": "[encoded data removed]",
            "text/plain": [
              "<Figure size 864x288 with 2 Axes>"
            ]
          },
          "metadata": {
            "tags": [],
            "needs_background": "light"
          }
        }
      ]
    },
    {
      "cell_type": "code",
      "metadata": {
        "id": "KNr42r5CYGE5"
      },
      "source": [
        "df3_log =  df.copy()"
      ],
      "execution_count": 28,
      "outputs": []
    },
    {
      "cell_type": "code",
      "metadata": {
        "id": "NBChiXZ0YKGx"
      },
      "source": [
        "#transformação logarítmica: transforma os dados, usando logaritmo:\r\n",
        "df3_log['price_per_order2'] = np.log(df['price_per_order'])\r\n"
      ],
      "execution_count": 32,
      "outputs": []
    },
    {
      "cell_type": "code",
      "metadata": {
        "colab": {
          "base_uri": "https://localhost:8080/",
          "height": 424
        },
        "id": "UQVRJnpXkny_",
        "outputId": "6d63efb3-6e26-4e42-deac-aacab3d3d6b7"
      },
      "source": [
        "#transforma para distribuição normal, para usar ANOVA\r\n",
        "df3_log"
      ],
      "execution_count": 33,
      "outputs": [
        {
          "output_type": "execute_result",
          "data": {
            "text/html": [
              "<div>\n",
              "<style scoped>\n",
              "    .dataframe tbody tr th:only-of-type {\n",
              "        vertical-align: middle;\n",
              "    }\n",
              "\n",
              "    .dataframe tbody tr th {\n",
              "        vertical-align: top;\n",
              "    }\n",
              "\n",
              "    .dataframe thead th {\n",
              "        text-align: right;\n",
              "    }\n",
              "</style>\n",
              "<table border=\"1\" class=\"dataframe\">\n",
              "  <thead>\n",
              "    <tr style=\"text-align: right;\">\n",
              "      <th></th>\n",
              "      <th>Region</th>\n",
              "      <th>price_per_order</th>\n",
              "      <th>price_per_order2</th>\n",
              "    </tr>\n",
              "  </thead>\n",
              "  <tbody>\n",
              "    <tr>\n",
              "      <th>0</th>\n",
              "      <td>British Isles</td>\n",
              "      <td>479.400</td>\n",
              "      <td>6.172535</td>\n",
              "    </tr>\n",
              "    <tr>\n",
              "      <th>1</th>\n",
              "      <td>British Isles</td>\n",
              "      <td>2645.000</td>\n",
              "      <td>7.880426</td>\n",
              "    </tr>\n",
              "    <tr>\n",
              "      <th>2</th>\n",
              "      <td>British Isles</td>\n",
              "      <td>1762.000</td>\n",
              "      <td>7.474205</td>\n",
              "    </tr>\n",
              "    <tr>\n",
              "      <th>3</th>\n",
              "      <td>British Isles</td>\n",
              "      <td>516.800</td>\n",
              "      <td>6.247656</td>\n",
              "    </tr>\n",
              "    <tr>\n",
              "      <th>4</th>\n",
              "      <td>British Isles</td>\n",
              "      <td>240.400</td>\n",
              "      <td>5.482304</td>\n",
              "    </tr>\n",
              "    <tr>\n",
              "      <th>...</th>\n",
              "      <td>...</td>\n",
              "      <td>...</td>\n",
              "      <td>...</td>\n",
              "    </tr>\n",
              "    <tr>\n",
              "      <th>796</th>\n",
              "      <td>Western Europe</td>\n",
              "      <td>86.850</td>\n",
              "      <td>4.464182</td>\n",
              "    </tr>\n",
              "    <tr>\n",
              "      <th>797</th>\n",
              "      <td>Western Europe</td>\n",
              "      <td>1629.975</td>\n",
              "      <td>7.396320</td>\n",
              "    </tr>\n",
              "    <tr>\n",
              "      <th>798</th>\n",
              "      <td>Western Europe</td>\n",
              "      <td>5218.000</td>\n",
              "      <td>8.559869</td>\n",
              "    </tr>\n",
              "    <tr>\n",
              "      <th>799</th>\n",
              "      <td>Western Europe</td>\n",
              "      <td>498.100</td>\n",
              "      <td>6.210801</td>\n",
              "    </tr>\n",
              "    <tr>\n",
              "      <th>800</th>\n",
              "      <td>Western Europe</td>\n",
              "      <td>792.750</td>\n",
              "      <td>6.675508</td>\n",
              "    </tr>\n",
              "  </tbody>\n",
              "</table>\n",
              "<p>801 rows × 3 columns</p>\n",
              "</div>"
            ],
            "text/plain": [
              "             Region  price_per_order  price_per_order2\n",
              "0     British Isles          479.400          6.172535\n",
              "1     British Isles         2645.000          7.880426\n",
              "2     British Isles         1762.000          7.474205\n",
              "3     British Isles          516.800          6.247656\n",
              "4     British Isles          240.400          5.482304\n",
              "..              ...              ...               ...\n",
              "796  Western Europe           86.850          4.464182\n",
              "797  Western Europe         1629.975          7.396320\n",
              "798  Western Europe         5218.000          8.559869\n",
              "799  Western Europe          498.100          6.210801\n",
              "800  Western Europe          792.750          6.675508\n",
              "\n",
              "[801 rows x 3 columns]"
            ]
          },
          "metadata": {
            "tags": []
          },
          "execution_count": 33
        }
      ]
    },
    {
      "cell_type": "code",
      "metadata": {
        "colab": {
          "base_uri": "https://localhost:8080/",
          "height": 685
        },
        "id": "HA9YWc7yovSp",
        "outputId": "11ae0f8d-c88f-411a-e363-350d15138876"
      },
      "source": [
        "# normalmente distribuidos\r\n",
        "# ploting the distributions\r\n",
        "# gráfico 1 -dados normais\r\n",
        "# gráfico 2 - dados usado o logaritmo\r\n",
        "\r\n",
        "plt.figure(figsize=(8,5))\r\n",
        "for region in set(df3_log.Region):\r\n",
        "  region_group = df3_log.loc[df3_log['Region']==region]\r\n",
        "  sns.distplot(region_group['price_per_order'], hist_kws=dict(alpha=0.2), label=region)\r\n",
        "  plt.legend()\r\n",
        "  plt.xlabel('Receita por pedido')"
      ],
      "execution_count": 31,
      "outputs": [
        {
          "output_type": "stream",
          "text": [
            "/usr/local/lib/python3.7/dist-packages/seaborn/distributions.py:2557: FutureWarning: `distplot` is a deprecated function and will be removed in a future version. Please adapt your code to use either `displot` (a figure-level function with similar flexibility) or `histplot` (an axes-level function for histograms).\n",
            "  warnings.warn(msg, FutureWarning)\n",
            "/usr/local/lib/python3.7/dist-packages/seaborn/distributions.py:2557: FutureWarning: `distplot` is a deprecated function and will be removed in a future version. Please adapt your code to use either `displot` (a figure-level function with similar flexibility) or `histplot` (an axes-level function for histograms).\n",
            "  warnings.warn(msg, FutureWarning)\n",
            "/usr/local/lib/python3.7/dist-packages/seaborn/distributions.py:2557: FutureWarning: `distplot` is a deprecated function and will be removed in a future version. Please adapt your code to use either `displot` (a figure-level function with similar flexibility) or `histplot` (an axes-level function for histograms).\n",
            "  warnings.warn(msg, FutureWarning)\n",
            "/usr/local/lib/python3.7/dist-packages/seaborn/distributions.py:2557: FutureWarning: `distplot` is a deprecated function and will be removed in a future version. Please adapt your code to use either `displot` (a figure-level function with similar flexibility) or `histplot` (an axes-level function for histograms).\n",
            "  warnings.warn(msg, FutureWarning)\n",
            "/usr/local/lib/python3.7/dist-packages/seaborn/distributions.py:2557: FutureWarning: `distplot` is a deprecated function and will be removed in a future version. Please adapt your code to use either `displot` (a figure-level function with similar flexibility) or `histplot` (an axes-level function for histograms).\n",
            "  warnings.warn(msg, FutureWarning)\n",
            "/usr/local/lib/python3.7/dist-packages/seaborn/distributions.py:2557: FutureWarning: `distplot` is a deprecated function and will be removed in a future version. Please adapt your code to use either `displot` (a figure-level function with similar flexibility) or `histplot` (an axes-level function for histograms).\n",
            "  warnings.warn(msg, FutureWarning)\n",
            "/usr/local/lib/python3.7/dist-packages/seaborn/distributions.py:2557: FutureWarning: `distplot` is a deprecated function and will be removed in a future version. Please adapt your code to use either `displot` (a figure-level function with similar flexibility) or `histplot` (an axes-level function for histograms).\n",
            "  warnings.warn(msg, FutureWarning)\n",
            "/usr/local/lib/python3.7/dist-packages/seaborn/distributions.py:2557: FutureWarning: `distplot` is a deprecated function and will be removed in a future version. Please adapt your code to use either `displot` (a figure-level function with similar flexibility) or `histplot` (an axes-level function for histograms).\n",
            "  warnings.warn(msg, FutureWarning)\n",
            "/usr/local/lib/python3.7/dist-packages/seaborn/distributions.py:2557: FutureWarning: `distplot` is a deprecated function and will be removed in a future version. Please adapt your code to use either `displot` (a figure-level function with similar flexibility) or `histplot` (an axes-level function for histograms).\n",
            "  warnings.warn(msg, FutureWarning)\n"
          ],
          "name": "stderr"
        },
        {
          "output_type": "display_data",
          "data": {
            "image/png": "[encoded data removed]",
            "text/plain": [
              "<Figure size 576x360 with 1 Axes>"
            ]
          },
          "metadata": {
            "tags": [],
            "needs_background": "light"
          }
        }
      ]
    },
    {
      "cell_type": "markdown",
      "metadata": {
        "id": "nRNKgUKkuil9"
      },
      "source": [
        "**Teste de Normalidade:**\r\n",
        "Utilizados para verificar se a distribuição de probabilidade associada a um conjunto de dados pode ser aproximada pela distribuição normal"
      ]
    },
    {
      "cell_type": "markdown",
      "metadata": {
        "id": "A0EPOoIcuIhu"
      },
      "source": [
        "**Estatística Kolmogorov-Smirnov**(testa um conjunto de dados se aproxima da distribuição normal)  pode ser utilizado para avaliar as hipóteses:\r\n",
        "\r\n",
        "  - H0: Os dados seguem uma distribuição normal\r\n",
        "  - H1: os dados não seguem uma distribuição normal "
      ]
    },
    {
      "cell_type": "code",
      "metadata": {
        "colab": {
          "base_uri": "https://localhost:8080/"
        },
        "id": "f8Nk21FmuHpq",
        "outputId": "2250ce48-46c9-4224-fecb-25b77b6c72a2"
      },
      "source": [
        "#kstest: kolmogorov\r\n",
        "from scipy.stats import kstest, norm\r\n",
        "my_data = df3_log['price_per_order'].loc[df3_log.loc[:,'Region']=='North America']\r\n",
        "ks_statistic, p_value = kstest(my_data,'norm')\r\n",
        "print(ks_statistic, p_value)\r\n",
        "#"
      ],
      "execution_count": 35,
      "outputs": [
        {
          "output_type": "stream",
          "text": [
            "1.0 0.0\n"
          ],
          "name": "stdout"
        }
      ]
    },
    {
      "cell_type": "code",
      "metadata": {
        "colab": {
          "base_uri": "https://localhost:8080/"
        },
        "id": "fH7pb6UAyke-",
        "outputId": "6bc6dd3b-cc49-4959-a0ff-ad2dc7fb91d3"
      },
      "source": [
        "my_data = df3_log['price_per_order'].loc[df3_log.loc[:,'Region']=='British Isles']\r\n",
        "ks_statistic, p_value = kstest(my_data,'norm')\r\n",
        "print(ks_statistic, p_value)"
      ],
      "execution_count": 36,
      "outputs": [
        {
          "output_type": "stream",
          "text": [
            "1.0 0.0\n"
          ],
          "name": "stdout"
        }
      ]
    },
    {
      "cell_type": "markdown",
      "metadata": {
        "id": "ut_00yq80AE7"
      },
      "source": [
        "As amostras têm variâncias semelhantes"
      ]
    },
    {
      "cell_type": "code",
      "metadata": {
        "id": "ab42Skb20M5j"
      },
      "source": [
        "df_var = df.groupby('Region')['price_per_order'].var().reset_index()"
      ],
      "execution_count": 37,
      "outputs": []
    },
    {
      "cell_type": "code",
      "metadata": {
        "colab": {
          "base_uri": "https://localhost:8080/",
          "height": 332
        },
        "id": "0Bub9scs0brK",
        "outputId": "128d5df8-0b0b-4650-b11f-a07c4f487573"
      },
      "source": [
        "df_var"
      ],
      "execution_count": 38,
      "outputs": [
        {
          "output_type": "execute_result",
          "data": {
            "text/html": [
              "<div>\n",
              "<style scoped>\n",
              "    .dataframe tbody tr th:only-of-type {\n",
              "        vertical-align: middle;\n",
              "    }\n",
              "\n",
              "    .dataframe tbody tr th {\n",
              "        vertical-align: top;\n",
              "    }\n",
              "\n",
              "    .dataframe thead th {\n",
              "        text-align: right;\n",
              "    }\n",
              "</style>\n",
              "<table border=\"1\" class=\"dataframe\">\n",
              "  <thead>\n",
              "    <tr style=\"text-align: right;\">\n",
              "      <th></th>\n",
              "      <th>Region</th>\n",
              "      <th>price_per_order</th>\n",
              "    </tr>\n",
              "  </thead>\n",
              "  <tbody>\n",
              "    <tr>\n",
              "      <th>0</th>\n",
              "      <td>British Isles</td>\n",
              "      <td>2.620012e+06</td>\n",
              "    </tr>\n",
              "    <tr>\n",
              "      <th>1</th>\n",
              "      <td>Central America</td>\n",
              "      <td>7.226174e+05</td>\n",
              "    </tr>\n",
              "    <tr>\n",
              "      <th>2</th>\n",
              "      <td>Eastern Europe</td>\n",
              "      <td>4.504533e+04</td>\n",
              "    </tr>\n",
              "    <tr>\n",
              "      <th>3</th>\n",
              "      <td>North America</td>\n",
              "      <td>4.882239e+06</td>\n",
              "    </tr>\n",
              "    <tr>\n",
              "      <th>4</th>\n",
              "      <td>Northern Europe</td>\n",
              "      <td>3.011166e+06</td>\n",
              "    </tr>\n",
              "    <tr>\n",
              "      <th>5</th>\n",
              "      <td>Scandinavia</td>\n",
              "      <td>4.918731e+05</td>\n",
              "    </tr>\n",
              "    <tr>\n",
              "      <th>6</th>\n",
              "      <td>South America</td>\n",
              "      <td>2.312917e+06</td>\n",
              "    </tr>\n",
              "    <tr>\n",
              "      <th>7</th>\n",
              "      <td>Southern Europe</td>\n",
              "      <td>5.332121e+05</td>\n",
              "    </tr>\n",
              "    <tr>\n",
              "      <th>8</th>\n",
              "      <td>Western Europe</td>\n",
              "      <td>4.222322e+06</td>\n",
              "    </tr>\n",
              "  </tbody>\n",
              "</table>\n",
              "</div>"
            ],
            "text/plain": [
              "            Region  price_per_order\n",
              "0    British Isles     2.620012e+06\n",
              "1  Central America     7.226174e+05\n",
              "2   Eastern Europe     4.504533e+04\n",
              "3    North America     4.882239e+06\n",
              "4  Northern Europe     3.011166e+06\n",
              "5      Scandinavia     4.918731e+05\n",
              "6    South America     2.312917e+06\n",
              "7  Southern Europe     5.332121e+05\n",
              "8   Western Europe     4.222322e+06"
            ]
          },
          "metadata": {
            "tags": []
          },
          "execution_count": 38
        }
      ]
    },
    {
      "cell_type": "markdown",
      "metadata": {
        "id": "uurw-wB80q18"
      },
      "source": [
        "Teste ANOVA(usa média e variancia...)"
      ]
    },
    {
      "cell_type": "code",
      "metadata": {
        "colab": {
          "base_uri": "https://localhost:8080/",
          "height": 169
        },
        "id": "eIQNIaed0umF",
        "outputId": "9c58e56a-e343-40e7-cd37-76f8d564a440"
      },
      "source": [
        "import statsmodels.api as sm\r\n",
        "from statsmodels.formula.api import ols\r\n",
        "\r\n",
        "#ajustar um modelo de price_per_order em categorias de regiaõ\r\n",
        "#e usar modelos de estatísticas para calcular uma tabela ANOVA\r\n",
        "\r\n",
        "lm = ols('price_per_order ~ C(Region)', df3_log).fit()\r\n",
        "sm.stats.anova_lm(lm, typ=2)"
      ],
      "execution_count": 39,
      "outputs": [
        {
          "output_type": "stream",
          "text": [
            "/usr/local/lib/python3.7/dist-packages/statsmodels/tools/_testing.py:19: FutureWarning: pandas.util.testing is deprecated. Use the functions in the public API at pandas.testing instead.\n",
            "  import pandas.util.testing as tm\n"
          ],
          "name": "stderr"
        },
        {
          "output_type": "execute_result",
          "data": {
            "text/html": [
              "<div>\n",
              "<style scoped>\n",
              "    .dataframe tbody tr th:only-of-type {\n",
              "        vertical-align: middle;\n",
              "    }\n",
              "\n",
              "    .dataframe tbody tr th {\n",
              "        vertical-align: top;\n",
              "    }\n",
              "\n",
              "    .dataframe thead th {\n",
              "        text-align: right;\n",
              "    }\n",
              "</style>\n",
              "<table border=\"1\" class=\"dataframe\">\n",
              "  <thead>\n",
              "    <tr style=\"text-align: right;\">\n",
              "      <th></th>\n",
              "      <th>sum_sq</th>\n",
              "      <th>df</th>\n",
              "      <th>F</th>\n",
              "      <th>PR(&gt;F)</th>\n",
              "    </tr>\n",
              "  </thead>\n",
              "  <tbody>\n",
              "    <tr>\n",
              "      <th>C(Region)</th>\n",
              "      <td>1.502147e+08</td>\n",
              "      <td>8.0</td>\n",
              "      <td>5.739638</td>\n",
              "      <td>4.009445e-07</td>\n",
              "    </tr>\n",
              "    <tr>\n",
              "      <th>Residual</th>\n",
              "      <td>2.590974e+09</td>\n",
              "      <td>792.0</td>\n",
              "      <td>NaN</td>\n",
              "      <td>NaN</td>\n",
              "    </tr>\n",
              "  </tbody>\n",
              "</table>\n",
              "</div>"
            ],
            "text/plain": [
              "                 sum_sq     df         F        PR(>F)\n",
              "C(Region)  1.502147e+08    8.0  5.739638  4.009445e-07\n",
              "Residual   2.590974e+09  792.0       NaN           NaN"
            ]
          },
          "metadata": {
            "tags": []
          },
          "execution_count": 39
        }
      ]
    },
    {
      "cell_type": "markdown",
      "metadata": {
        "id": "bkDOZh9r12BP"
      },
      "source": [
        " - Estatística de teste é a F = 5,74\r\n",
        " - df valores para a entrada na tabela de 8.0 e infinito = 1;94 rejeita H0\r\n",
        " - P-value = 4e-07, menos que alpha rejeita H0"
      ]
    },
    {
      "cell_type": "code",
      "metadata": {
        "id": "-VmArhhc2XQJ"
      },
      "source": [
        "df3_log.head()"
      ],
      "execution_count": null,
      "outputs": []
    },
    {
      "cell_type": "code",
      "metadata": {
        "id": "1m7OR9ti3L9R"
      },
      "source": [
        "#valores usando os dados de logaritimo\r\n",
        "lm = ols('price_per_order2 ~ C(Region)', df3_log).fit()\r\n",
        "sm.stats.anova_lm(lm, typ=2)"
      ],
      "execution_count": null,
      "outputs": []
    },
    {
      "cell_type": "markdown",
      "metadata": {
        "id": "7hljkTar4weY"
      },
      "source": [
        "H0: o valor médio gasto por pedido é o mesmo entre as diferentes regiões do clientes.\r\n",
        "\r\n",
        "H1: o valor médio gasto por pedido é diferente entre as diferentes regiões do cliente"
      ]
    },
    {
      "cell_type": "markdown",
      "metadata": {
        "id": "8zNWCqNh5MoN"
      },
      "source": [
        "**Conclusão:**\r\n",
        "\r\n",
        "Existem diferentes estatisticamente significativas na receita média por pedido de clientes de diferentes regiões."
      ]
    }
  ]
}